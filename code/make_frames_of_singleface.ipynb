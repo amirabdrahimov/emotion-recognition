{
 "cells": [
  {
   "cell_type": "code",
   "execution_count": 1,
   "metadata": {},
   "outputs": [],
   "source": [
    "DATA_DIR='D:/Users/amira/Documents/datasets/emotions/EmotiW/engagement'"
   ]
  },
  {
   "cell_type": "code",
   "execution_count": 2,
   "metadata": {},
   "outputs": [],
   "source": [
    "import os\n",
    "from tqdm import tqdm"
   ]
  },
  {
   "cell_type": "code",
   "execution_count": 3,
   "metadata": {},
   "outputs": [
    {
     "name": "stderr",
     "output_type": "stream",
     "text": [
      "  0%|          | 0/1 [00:00<?, ?it/s]"
     ]
    },
    {
     "name": "stdout",
     "output_type": "stream",
     "text": [
      "ffmpeg -r 30 -i D:\\Users\\amira\\Documents\\datasets\\emotions\\EmotiW\\engagement\\Train\\subject_21_Vid_5.mp4 -r 1 D:\\Users\\amira\\Documents\\datasets\\emotions\\EmotiW\\engagement\\frames\\Train\\subject_21_Vid_5\\%05d.png\n"
     ]
    },
    {
     "name": "stderr",
     "output_type": "stream",
     "text": [
      "100%|██████████| 1/1 [00:02<00:00,  2.01s/it]\n"
     ]
    }
   ],
   "source": [
    "def process_dir(dirname):\n",
    "    resdir=os.path.join(DATA_DIR,'frames')\n",
    "    d = os.path.normpath(os.path.join(DATA_DIR, dirname))\n",
    "    for filename in tqdm(os.listdir(d)):\n",
    "        '''if filename.lower().endswith('ini'):\n",
    "            continue'''\n",
    "        if os.path.isdir(os.path.normpath(os.path.join(d,filename))):\n",
    "            videofile=None\n",
    "            for fn in os.listdir(os.path.normpath(os.path.join(d,filename))):\n",
    "                '''if fn.lower().endswith('ini'):\n",
    "                    continue'''\n",
    "                videofile=fn\n",
    "            if videofile is None:\n",
    "                continue\n",
    "            filename=os.path.normpath(os.path.join(filename,videofile))\n",
    "        fn, ext = os.path.splitext(os.path.basename(filename))\n",
    "        outdir=os.path.normpath(os.path.join(resdir,dirname,fn))\n",
    "        if not os.path.exists(outdir):\n",
    "            os.makedirs(outdir)\n",
    "        command = \"ffmpeg -r 30 -i \"+os.path.join(d,filename) + \" -r 1 \"+outdir+\"/%05d.png\"\n",
    "        command = os.path.normpath(command)\n",
    "        print(command)\n",
    "        os.system(command=command)\n",
    "\n",
    "\n",
    "process_dir('Train')"
   ]
  },
  {
   "cell_type": "code",
   "execution_count": 5,
   "metadata": {},
   "outputs": [
    {
     "name": "stdout",
     "output_type": "stream",
     "text": [
      "D:/Users/amira/Documents/datasets/emotions/EmotiW/engagement\\frames/Train/\n",
      "D:/Users/amira/Downloads/OpenFace_2.2.0_win_x64/OpenFace_2.2.0_win_x64/FeatureExtraction.exe -pose -aus -gaze -out_dir D:/Users/amira/Documents/datasets/emotions/EmotiW/engagement\\frames/faces/openface/Train/ -fdir subject_21_Vid_5\n",
      "d:\\Users\\amira\\Desktop\n"
     ]
    }
   ],
   "source": [
    "def extract_openface_features(dirname,outdir):\n",
    "    print(dirname)\n",
    "    if not os.path.exists(outdir):\n",
    "        os.makedirs(outdir)\n",
    "    os.chdir(dirname)\n",
    "    command='D:/Users/amira/Downloads/OpenFace_2.2.0_win_x64/OpenFace_2.2.0_win_x64/FeatureExtraction.exe -pose -aus -gaze -out_dir '+outdir\n",
    "    for filename in os.listdir('.'):\n",
    "        if filename.lower().endswith('ini'):\n",
    "            continue\n",
    "        \n",
    "        if os.path.isdir(filename):\n",
    "            command+=' -fdir '+filename\n",
    "        \n",
    "    print(command)\n",
    "    os.system(command=command)\n",
    "\n",
    "cur_dir=os.getcwd()\n",
    "#extract_openface_features(os.path.join(DATA_DIR,'frames/validation/'),os.path.join(DATA_DIR,'frames/faces/openface/validation/'))\n",
    "extract_openface_features(os.path.join(DATA_DIR,'frames/Train/'),os.path.join(DATA_DIR,'frames/faces/openface/Train/'))\n",
    "os.chdir(cur_dir)\n",
    "print(os.getcwd())"
   ]
  },
  {
   "cell_type": "code",
   "execution_count": null,
   "metadata": {},
   "outputs": [],
   "source": []
  },
  {
   "cell_type": "code",
   "execution_count": null,
   "metadata": {},
   "outputs": [],
   "source": []
  }
 ],
 "metadata": {
  "interpreter": {
   "hash": "d5b0939b96e20240b6688bffb0ff6dfbaab1e456544936bbdb82861744a570ee"
  },
  "kernelspec": {
   "display_name": "Python 3.9.10 64-bit",
   "language": "python",
   "name": "python3"
  },
  "language_info": {
   "codemirror_mode": {
    "name": "ipython",
    "version": 3
   },
   "file_extension": ".py",
   "mimetype": "text/x-python",
   "name": "python",
   "nbconvert_exporter": "python",
   "pygments_lexer": "ipython3",
   "version": "3.9.10"
  },
  "orig_nbformat": 4
 },
 "nbformat": 4,
 "nbformat_minor": 2
}
