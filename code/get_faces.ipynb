{
  "nbformat": 4,
  "nbformat_minor": 0,
  "metadata": {
    "colab": {
      "name": "get_faces",
      "provenance": [],
      "collapsed_sections": []
    },
    "kernelspec": {
      "name": "python3",
      "display_name": "Python 3"
    },
    "language_info": {
      "name": "python"
    }
  },
  "cells": [
    {
      "cell_type": "code",
      "execution_count": null,
      "metadata": {
        "id": "mHeEPz0kLKY4"
      },
      "outputs": [],
      "source": [
        "from google.colab import drive\n",
        "drive.mount('/content/drive')"
      ]
    },
    {
      "cell_type": "code",
      "source": [
        "DATA_DIR='/content/drive/MyDrive/data/'"
      ],
      "metadata": {
        "id": "s94SEPcOLNjs"
      },
      "execution_count": null,
      "outputs": []
    },
    {
      "cell_type": "code",
      "source": [
        "import os\n",
        "from PIL import Image\n",
        "import cv2\n",
        "from sklearn.model_selection import train_test_split\n",
        "from sklearn import preprocessing\n",
        "from sklearn import svm\n",
        "from sklearn.ensemble import RandomForestClassifier,RandomForestRegressor\n",
        "from sklearn import svm,metrics,preprocessing\n",
        "from sklearn.neighbors import KNeighborsClassifier\n",
        "from sklearn.decomposition import PCA\n",
        "from sklearn.pipeline import Pipeline\n",
        "# import mord\n",
        "\n",
        "from collections import defaultdict\n",
        "import os\n",
        "import random\n",
        "import numpy as np\n",
        "from tqdm import tqdm\n",
        "import time\n",
        "import pickle\n",
        "import pandas as pd\n",
        "import matplotlib.pyplot as plt"
      ],
      "metadata": {
        "id": "vHS0DyqqLPDv"
      },
      "execution_count": null,
      "outputs": []
    },
    {
      "cell_type": "code",
      "source": [
        "!cp /content/drive/MyDrive/facial_analysis_for_colab.py ."
      ],
      "metadata": {
        "id": "qJHO3LxtLTZh"
      },
      "execution_count": null,
      "outputs": []
    },
    {
      "cell_type": "code",
      "source": [
        "from facial_analysis_for_colab import FacialImageProcessing\n",
        "imgProcessing=FacialImageProcessing(False)"
      ],
      "metadata": {
        "id": "dw8MQchxLaId"
      },
      "execution_count": null,
      "outputs": []
    },
    {
      "cell_type": "code",
      "source": [
        "INPUT_SIZE = (224,224)\n",
        "def save_faces(source_path,save_path):\n",
        "    if not os.path.exists(save_path):\n",
        "        os.makedirs(save_path)\n",
        "    for folder in tqdm(os.listdir(source_path)):\n",
        "        if not os.path.exists(os.path.join(save_path, folder)):\n",
        "            os.mkdir(os.path.join(save_path, folder))\n",
        "\n",
        "            for image in os.listdir(os.path.join(source_path, folder)):\n",
        "                filename = os.path.join(source_path, folder, image)\n",
        "                frame_bgr = cv2.imread(filename)\n",
        "                frame = cv2.cvtColor(frame_bgr, cv2.COLOR_BGR2RGB)\n",
        "                bounding_boxes, _ = imgProcessing.detect_faces(frame)\n",
        "\n",
        "                if len(bounding_boxes)==0:\n",
        "                    print('No faces found for ',filename)\n",
        "                    face_img = frame_bgr\n",
        "                    faceFound='noface'\n",
        "                else:\n",
        "                    print('(',len(bounding_boxes),') faces found for ',filename)\n",
        "                    for i in range(len(bounding_boxes)):\n",
        "                        bounding_box=bounding_boxes[i]\n",
        "\n",
        "                        b=[int(bi) for bi in bounding_box]\n",
        "                        x1,y1,x2,y2=b[0:4]\n",
        "                        face_img=frame_bgr[y1:y2,x1:x2,:]\n",
        "\n",
        "                        if np.prod(face_img.shape)==0:\n",
        "                            print('Empty face ',b,' found for ',filename)\n",
        "                            continue\n",
        "                    \n",
        "                        faceFound='_'+str(i)\n",
        "\n",
        "                        #face_img=cv2.resize(face_img,INPUT_SIZE)\n",
        "                        root,ext=os.path.splitext(image)\n",
        "                        cv2.imwrite(os.path.join(save_path, folder, root+faceFound+ext), face_img) \n",
        "        else:\n",
        "            print(folder)\n",
        "        \n",
        "save_faces(os.path.join(DATA_DIR,'zoom/frames'),os.path.join(DATA_DIR,'zoom/faces/class_call_many'))"
      ],
      "metadata": {
        "id": "-_1-slWzLdEi"
      },
      "execution_count": null,
      "outputs": []
    },
    {
      "cell_type": "code",
      "source": [
        "import os.path\n",
        "path = '/content/drive/MyDrive/data/zoom/faces/class_call_many/class_call'\n",
        "count = len([f for f in os.listdir(path) if os.path.isfile(os.path.join(path, f))])\n",
        "print(count)"
      ],
      "metadata": {
        "id": "lWErVkmTLeAA"
      },
      "execution_count": null,
      "outputs": []
    }
  ]
}