{
  "cells": [
    {
      "cell_type": "code",
      "execution_count": 20,
      "metadata": {
        "id": "U2pc92iHC-xu",
        "outputId": "aaa9d306-4e75-4af9-f503-55231709b0e5"
      },
      "outputs": [
        {
          "name": "stdout",
          "output_type": "stream",
          "text": [
            "env: CUDA_VISIBLE_DEVICES=1\n"
          ]
        }
      ],
      "source": [
        "%env CUDA_VISIBLE_DEVICES=1"
      ]
    },
    {
      "cell_type": "code",
      "execution_count": 4,
      "metadata": {
        "id": "r6Dkx30FC-xv"
      },
      "outputs": [],
      "source": [
        "DATA_DIR='D:/Users/amira/Documents/datasets/emotions/zoom'"
      ]
    },
    {
      "cell_type": "code",
      "execution_count": 5,
      "metadata": {
        "id": "tVMy2o0IC-xw"
      },
      "outputs": [],
      "source": [
        "import os\n",
        "from PIL import Image\n",
        "import cv2\n",
        "from sklearn.model_selection import train_test_split\n",
        "from sklearn.ensemble import RandomForestClassifier,RandomForestRegressor\n",
        "from sklearn import svm,metrics,preprocessing\n",
        "from sklearn.neighbors import KNeighborsClassifier\n",
        "from sklearn.decomposition import PCA\n",
        "from sklearn.pipeline import Pipeline\n",
        "from sklearn.metrics.pairwise import pairwise_distances\n",
        "\n",
        "from collections import defaultdict\n",
        "import os\n",
        "import random\n",
        "import numpy as np\n",
        "from tqdm import tqdm\n",
        "import time\n",
        "import pickle\n",
        "import pandas as pd\n",
        "import matplotlib.pyplot as plt"
      ]
    },
    {
      "cell_type": "code",
      "execution_count": 17,
      "metadata": {
        "id": "siWtQ1wfC-xx"
      },
      "outputs": [],
      "source": [
        "compare_filenames=lambda x: int(os.path.splitext(x)[0])"
      ]
    },
    {
      "cell_type": "code",
      "execution_count": 18,
      "metadata": {
        "id": "Oqw__BfNC-xx",
        "outputId": "57efc92e-4f36-4308-8343-a65cb3c95b72"
      },
      "outputs": [
        {
          "name": "stdout",
          "output_type": "stream",
          "text": [
            "D:\\Users\\amira\\Documents\\datasets\\emotions\\zoom\\videos\\4.mp4\n"
          ]
        }
      ],
      "source": [
        "video_path=os.path.normpath(os.path.join(DATA_DIR,'videos/4.mp4'))\n",
        "print(video_path)\n",
        "faces_path=os.path.normpath(os.path.join(DATA_DIR,'faces'))"
      ]
    },
    {
      "cell_type": "markdown",
      "metadata": {
        "id": "tqE_7tC6C-xy"
      },
      "source": [
        "# Face detection + OCR"
      ]
    },
    {
      "cell_type": "code",
      "execution_count": 21,
      "metadata": {
        "id": "x0mQtgwzC-xz",
        "outputId": "74e04184-7811-4444-daa0-4e0d3b60b0ec"
      },
      "outputs": [
        {
          "name": "stdout",
          "output_type": "stream",
          "text": [
            "2.8.0\n"
          ]
        }
      ],
      "source": [
        "import tensorflow as tf\n",
        "\n",
        "print(tf.__version__)\n",
        "from tensorflow.compat.v1.keras.backend import set_session \n",
        "config = tf.compat.v1.ConfigProto()\n",
        "config.gpu_options.allow_growth = True\n",
        "sess=tf.compat.v1.Session(config=config)\n",
        "set_session(sess)\n",
        "\n",
        "from facial_analysis import FacialImageProcessing\n",
        "imgProcessing=FacialImageProcessing(False)"
      ]
    },
    {
      "cell_type": "code",
      "execution_count": 22,
      "metadata": {
        "id": "_b2n6cVkC-x0"
      },
      "outputs": [],
      "source": [
        "import numpy as np\n",
        "import cv2\n",
        "import math\n",
        "from skimage import transform as trans\n",
        "def get_iou(bb1, bb2):\n",
        "    \"\"\"\n",
        "    Calculate the Intersection over Union (IoU) of two bounding boxes.\n",
        "\n",
        "    Parameters\n",
        "    ----------\n",
        "    bb1 : array\n",
        "        order: {'x1', 'y1', 'x2', 'y2'}\n",
        "        The (x1, y1) position is at the top left corner,\n",
        "        the (x2, y2) position is at the bottom right corner\n",
        "    bb2 : array\n",
        "        order: {'x1', 'y1', 'x2', 'y2'}\n",
        "        The (x1, y1) position is at the top left corner,\n",
        "        the (x2, y2) position is at the bottom right corner\n",
        "\n",
        "    Returns\n",
        "    -------\n",
        "    float\n",
        "        in [0, 1]\n",
        "    \"\"\"\n",
        "\n",
        "    # determine the coordinates of the intersection rectangle\n",
        "    x_left = max(bb1[0], bb2[0])\n",
        "    y_top = max(bb1[1], bb2[1])\n",
        "    x_right = min(bb1[2], bb2[2])\n",
        "    y_bottom = min(bb1[3], bb2[3])\n",
        "\n",
        "    if x_right < x_left or y_bottom < y_top:\n",
        "        return 0.0\n",
        "\n",
        "    # The intersection of two axis-aligned bounding boxes is always an\n",
        "    # axis-aligned bounding box\n",
        "    intersection_area = (x_right - x_left) * (y_bottom - y_top)\n",
        "\n",
        "    # compute the area of both AABBs\n",
        "    bb1_area = (bb1[2] - bb1[0]) * (bb1[3] - bb1[1])\n",
        "    bb2_area = (bb2[2] - bb2[0]) * (bb2[3] - bb2[1])\n",
        "\n",
        "    # compute the intersection over union by taking the intersection\n",
        "    # area and dividing it by the sum of prediction + ground-truth\n",
        "    # areas - the interesection area\n",
        "    iou = intersection_area / float(bb1_area + bb2_area - intersection_area)\n",
        "    return iou\n",
        "\n",
        "#print(get_iou([10,10,20,20],[15,15,25,25]))\n",
        "\n",
        "def preprocess(img, bbox=None, landmark=None, **kwargs):\n",
        "    M = None\n",
        "    image_size = [224,224]\n",
        "    src = np.array([\n",
        "      [30.2946, 51.6963],\n",
        "      [65.5318, 51.5014],\n",
        "      [48.0252, 71.7366],\n",
        "      [33.5493, 92.3655],\n",
        "      [62.7299, 92.2041] ], dtype=np.float32 )\n",
        "    if image_size[1]==224:\n",
        "        src[:,0] += 8.0\n",
        "    src*=2\n",
        "    if landmark is not None:\n",
        "        dst = landmark.astype(np.float32)\n",
        "\n",
        "        tform = trans.SimilarityTransform()\n",
        "        #dst=dst[:3]\n",
        "        #src=src[:3]\n",
        "        #print(dst.shape,src.shape,dst,src)\n",
        "        tform.estimate(dst, src)\n",
        "        M = tform.params[0:2,:]\n",
        "        #M = cv2.estimateRigidTransform( dst.reshape(1,5,2), src.reshape(1,5,2), False)\n",
        "        #print(M)\n",
        "\n",
        "    if M is None:\n",
        "        if bbox is None: #use center crop\n",
        "            det = np.zeros(4, dtype=np.int32)\n",
        "            det[0] = int(img.shape[1]*0.0625)\n",
        "            det[1] = int(img.shape[0]*0.0625)\n",
        "            det[2] = img.shape[1] - det[0]\n",
        "            det[3] = img.shape[0] - det[1]\n",
        "        else:\n",
        "              det = bbox\n",
        "        margin = 0#kwargs.get('margin', 44)\n",
        "        bb = np.zeros(4, dtype=np.int32)\n",
        "        bb[0] = np.maximum(det[0]-margin//2, 0)\n",
        "        bb[1] = np.maximum(det[1]-margin//2, 0)\n",
        "        bb[2] = np.minimum(det[2]+margin//2, img.shape[1])\n",
        "        bb[3] = np.minimum(det[3]+margin//2, img.shape[0])\n",
        "        ret = img[bb[1]:bb[3],bb[0]:bb[2],:]\n",
        "        if len(image_size)>0:\n",
        "              ret = cv2.resize(ret, (image_size[1], image_size[0]))\n",
        "        return ret \n",
        "    else: #do align using landmark\n",
        "        assert len(image_size)==2\n",
        "        warped = cv2.warpAffine(img,M,(image_size[1],image_size[0]), borderValue = 0.0)\n",
        "        return warped"
      ]
    },
    {
      "cell_type": "code",
      "execution_count": 23,
      "metadata": {
        "id": "3g7Lt9vJC-x1",
        "outputId": "7f9b4b75-4b2c-408e-bc33-af60a6ebd3c0"
      },
      "outputs": [
        {
          "name": "stdout",
          "output_type": "stream",
          "text": [
            "total_frames: 1701\n"
          ]
        },
        {
          "name": "stderr",
          "output_type": "stream",
          "text": [
            "100%|██████████| 1700/1700 [19:36<00:00,  1.44it/s]\n"
          ]
        }
      ],
      "source": [
        "import pytesseract\n",
        "\n",
        "pytesseract.pytesseract.tesseract_cmd = r\"C:\\Program Files\\Tesseract-OCR\\tesseract.exe\"\n",
        "\n",
        "if not os.path.exists(faces_path):\n",
        "    os.mkdir(faces_path)\n",
        "\n",
        "cap = cv2.VideoCapture(video_path)\n",
        "fps = cap.get(cv2.CAP_PROP_FPS)\n",
        "total_frames = int(cap.get(cv2.CAP_PROP_FRAME_COUNT))\n",
        "print('total_frames:',total_frames)\n",
        "cap.set(cv2.CAP_PROP_POS_FRAMES,1)\n",
        "\n",
        "frame_count = 0\n",
        "counter=0\n",
        "bboxes,all_text=[],[]\n",
        "\n",
        "for frame_count in tqdm(range(total_frames-1)):\n",
        "    ret, frame_bgr = cap.read()\n",
        "    counter+=1\n",
        "    if not ret:\n",
        "        #cap.release()\n",
        "        #break\n",
        "        continue\n",
        "    frame = cv2.cvtColor(frame_bgr, cv2.COLOR_BGR2RGB)\n",
        "    bounding_boxes, points = imgProcessing.detect_faces(frame)\n",
        "    points = points.T\n",
        "    if len(bounding_boxes)!=0:\n",
        "        sorted_indices=bounding_boxes[:,0].argsort()\n",
        "        bounding_boxes=bounding_boxes[sorted_indices]\n",
        "        points=points[sorted_indices]\n",
        "\n",
        "        faces_folder=os.path.join(faces_path, str(counter)) \n",
        "        if not os.path.exists(faces_folder):\n",
        "            os.mkdir(faces_folder)\n",
        "        for i,b in enumerate(bounding_boxes):\n",
        "            outfile=os.path.join(faces_folder, str(i)+'.png')\n",
        "            if not os.path.exists(outfile):\n",
        "                if True:\n",
        "                    p=None\n",
        "                else:\n",
        "                    p=points[i]\n",
        "                    p = p.reshape((2,5)).T\n",
        "                face_img=preprocess(frame_bgr,b,p)\n",
        "\n",
        "                if np.prod(face_img.shape)==0:\n",
        "                    print('Empty face ',b,' found for ',filename)\n",
        "                    continue\n",
        "                cv2.imwrite(outfile, face_img) \n",
        "        bboxes.append(bounding_boxes)\n",
        "        \n",
        "        frame = cv2.resize(frame, None, fx=2.0, fy=2.0, interpolation=cv2.INTER_LINEAR)\n",
        "        results=pytesseract.image_to_data(frame,lang='rus+eng',output_type=pytesseract.Output.DICT)\n",
        "        frame_text=[]\n",
        "        for i in range(0, len(results[\"text\"])):\n",
        "            x = results[\"left\"][i]\n",
        "            y = results[\"top\"][i]\n",
        "            w = results[\"width\"][i]\n",
        "            h = results[\"height\"][i]\n",
        "            text = results[\"text\"][i].strip()\n",
        "            conf = float(results[\"conf\"][i])\n",
        "            if conf > 0 and len(text)>1:\n",
        "                frame_text.append((text,int(x/frame.shape[1]*frame_bgr.shape[1]),int(y/frame.shape[0]*frame_bgr.shape[0]),\n",
        "                                 int(w/frame.shape[1]*frame_bgr.shape[1]),int(h/frame.shape[0]*frame_bgr.shape[1])))\n",
        "        all_text.append(frame_text)\n",
        "    \n",
        "cap.release()    "
      ]
    },
    {
      "cell_type": "markdown",
      "metadata": {
        "id": "5ZYkdzq7C-x2"
      },
      "source": [
        "## Text processing "
      ]
    },
    {
      "cell_type": "code",
      "execution_count": 24,
      "metadata": {
        "id": "hdS1oeaJC-x2"
      },
      "outputs": [],
      "source": [
        "def combine_words(photo_text):\n",
        "    #print(photo_text)\n",
        "    if len(photo_text)>0:\n",
        "        new_text=[photo_text[0]]\n",
        "        for word_ind in range(1,len(photo_text)):\n",
        "            prev_text,x1,y1,w1,h1=new_text[-1]\n",
        "            center1_x,center1_y=x1+w1,y1+h1/2\n",
        "            cur_text,x2,y2,w2,h2=photo_text[word_ind]\n",
        "            center2_x,center2_y=x2,y2+h2/2\n",
        "            dist=abs(center1_x-center2_x)+abs(center1_y-center2_y)\n",
        "            #print(prev_text,cur_text,dist)\n",
        "            if dist>=7: #0.01:\n",
        "                new_text.append(photo_text[word_ind])\n",
        "            else:\n",
        "                new_text[-1]=(prev_text+' '+cur_text,x1,y1,x2+w2-x1,y2+h2-y1)\n",
        "    else:\n",
        "        new_text=[]\n",
        "    return new_text"
      ]
    },
    {
      "cell_type": "code",
      "execution_count": 25,
      "metadata": {
        "id": "-qboQZGGC-x2"
      },
      "outputs": [],
      "source": [
        "def get_closest_texts(bboxes,photo_text):\n",
        "    best_texts,best_distances=[],[]\n",
        "    for (x1,y1,x2,y2,_) in bboxes:\n",
        "        face_x,face_y=x1,y2\n",
        "        #print(x1,y1,x2,y2)\n",
        "        best_dist=10000\n",
        "        best_text=''\n",
        "        for (text,x,y,w,h) in photo_text:\n",
        "            if y>y1:\n",
        "                dist_y=abs(face_y-y)\n",
        "                if face_x<x:\n",
        "                    dist_x=x-face_x\n",
        "                elif face_x>x+w:\n",
        "                    dist_x=face_x-x-w\n",
        "                else:\n",
        "                    dist_x=0\n",
        "                #print(text,dist_x, dist_y,x,y,w,h)\n",
        "                if dist_x<best_dist and dist_y<1.5*(y2-y1):\n",
        "                    best_dist=dist_x\n",
        "                    best_text=text\n",
        "        #print(best_text,best_dist,(x2-x1))\n",
        "        if best_dist>=(x2-x1)*2:\n",
        "            best_text=''\n",
        "        if best_text!='':\n",
        "            for i,prev_txt in enumerate(best_texts):\n",
        "                if prev_txt==best_text:\n",
        "                    if best_distances[i]<best_dist:\n",
        "                        best_text=''\n",
        "                        break\n",
        "                    else:\n",
        "                        best_texts[i]=''\n",
        "        best_texts.append(best_text)\n",
        "        best_distances.append(best_dist)\n",
        "    return best_texts"
      ]
    },
    {
      "cell_type": "markdown",
      "metadata": {
        "id": "IhuJ55BLC-x3"
      },
      "source": [
        "# FaceId "
      ]
    },
    {
      "cell_type": "code",
      "execution_count": 26,
      "metadata": {
        "id": "FzJcJvigC-x3",
        "outputId": "73d90d1e-851a-4dba-f0d7-6438ad94fe7c"
      },
      "outputs": [
        {
          "name": "stdout",
          "output_type": "stream",
          "text": [
            "Torch: 1.10.2+cu113\n"
          ]
        }
      ],
      "source": [
        "import torch\n",
        "from PIL import Image\n",
        "from torchvision import datasets, transforms\n",
        "\n",
        "print(f\"Torch: {torch.__version__}\")\n",
        "device = 'cuda'"
      ]
    },
    {
      "cell_type": "code",
      "execution_count": 27,
      "metadata": {},
      "outputs": [
        {
          "data": {
            "text/plain": [
              "device(type='cuda')"
            ]
          },
          "execution_count": 27,
          "metadata": {},
          "output_type": "execute_result"
        }
      ],
      "source": [
        "device = torch.device('cuda' if torch.cuda.is_available() else 'cpu')\n",
        "device"
      ]
    },
    {
      "cell_type": "code",
      "execution_count": 13,
      "metadata": {},
      "outputs": [
        {
          "data": {
            "text/plain": [
              "True"
            ]
          },
          "execution_count": 13,
          "metadata": {},
          "output_type": "execute_result"
        }
      ],
      "source": [
        "torch.cuda.is_available()"
      ]
    },
    {
      "cell_type": "code",
      "execution_count": 14,
      "metadata": {
        "id": "7FoG_bOeC-x4",
        "outputId": "86e9c65c-c51d-4b6c-b9c6-3f4e94beb367"
      },
      "outputs": [
        {
          "data": {
            "text/plain": [
              "EfficientNet(\n",
              "  (conv_stem): Conv2dSame(3, 32, kernel_size=(3, 3), stride=(2, 2), bias=False)\n",
              "  (bn1): BatchNorm2d(32, eps=0.001, momentum=0.1, affine=True, track_running_stats=True)\n",
              "  (act1): SiLU(inplace=True)\n",
              "  (blocks): Sequential(\n",
              "    (0): Sequential(\n",
              "      (0): DepthwiseSeparableConv(\n",
              "        (conv_dw): Conv2d(32, 32, kernel_size=(3, 3), stride=(1, 1), padding=(1, 1), groups=32, bias=False)\n",
              "        (bn1): BatchNorm2d(32, eps=0.001, momentum=0.1, affine=True, track_running_stats=True)\n",
              "        (act1): SiLU(inplace=True)\n",
              "        (se): SqueezeExcite(\n",
              "          (conv_reduce): Conv2d(32, 8, kernel_size=(1, 1), stride=(1, 1))\n",
              "          (act1): SiLU(inplace=True)\n",
              "          (conv_expand): Conv2d(8, 32, kernel_size=(1, 1), stride=(1, 1))\n",
              "        )\n",
              "        (conv_pw): Conv2d(32, 16, kernel_size=(1, 1), stride=(1, 1), bias=False)\n",
              "        (bn2): BatchNorm2d(16, eps=0.001, momentum=0.1, affine=True, track_running_stats=True)\n",
              "        (act2): Identity()\n",
              "      )\n",
              "    )\n",
              "    (1): Sequential(\n",
              "      (0): InvertedResidual(\n",
              "        (conv_pw): Conv2d(16, 96, kernel_size=(1, 1), stride=(1, 1), bias=False)\n",
              "        (bn1): BatchNorm2d(96, eps=0.001, momentum=0.1, affine=True, track_running_stats=True)\n",
              "        (act1): SiLU(inplace=True)\n",
              "        (conv_dw): Conv2dSame(96, 96, kernel_size=(3, 3), stride=(2, 2), groups=96, bias=False)\n",
              "        (bn2): BatchNorm2d(96, eps=0.001, momentum=0.1, affine=True, track_running_stats=True)\n",
              "        (act2): SiLU(inplace=True)\n",
              "        (se): SqueezeExcite(\n",
              "          (conv_reduce): Conv2d(96, 4, kernel_size=(1, 1), stride=(1, 1))\n",
              "          (act1): SiLU(inplace=True)\n",
              "          (conv_expand): Conv2d(4, 96, kernel_size=(1, 1), stride=(1, 1))\n",
              "        )\n",
              "        (conv_pwl): Conv2d(96, 24, kernel_size=(1, 1), stride=(1, 1), bias=False)\n",
              "        (bn3): BatchNorm2d(24, eps=0.001, momentum=0.1, affine=True, track_running_stats=True)\n",
              "      )\n",
              "      (1): InvertedResidual(\n",
              "        (conv_pw): Conv2d(24, 144, kernel_size=(1, 1), stride=(1, 1), bias=False)\n",
              "        (bn1): BatchNorm2d(144, eps=0.001, momentum=0.1, affine=True, track_running_stats=True)\n",
              "        (act1): SiLU(inplace=True)\n",
              "        (conv_dw): Conv2d(144, 144, kernel_size=(3, 3), stride=(1, 1), padding=(1, 1), groups=144, bias=False)\n",
              "        (bn2): BatchNorm2d(144, eps=0.001, momentum=0.1, affine=True, track_running_stats=True)\n",
              "        (act2): SiLU(inplace=True)\n",
              "        (se): SqueezeExcite(\n",
              "          (conv_reduce): Conv2d(144, 6, kernel_size=(1, 1), stride=(1, 1))\n",
              "          (act1): SiLU(inplace=True)\n",
              "          (conv_expand): Conv2d(6, 144, kernel_size=(1, 1), stride=(1, 1))\n",
              "        )\n",
              "        (conv_pwl): Conv2d(144, 24, kernel_size=(1, 1), stride=(1, 1), bias=False)\n",
              "        (bn3): BatchNorm2d(24, eps=0.001, momentum=0.1, affine=True, track_running_stats=True)\n",
              "      )\n",
              "    )\n",
              "    (2): Sequential(\n",
              "      (0): InvertedResidual(\n",
              "        (conv_pw): Conv2d(24, 144, kernel_size=(1, 1), stride=(1, 1), bias=False)\n",
              "        (bn1): BatchNorm2d(144, eps=0.001, momentum=0.1, affine=True, track_running_stats=True)\n",
              "        (act1): SiLU(inplace=True)\n",
              "        (conv_dw): Conv2dSame(144, 144, kernel_size=(5, 5), stride=(2, 2), groups=144, bias=False)\n",
              "        (bn2): BatchNorm2d(144, eps=0.001, momentum=0.1, affine=True, track_running_stats=True)\n",
              "        (act2): SiLU(inplace=True)\n",
              "        (se): SqueezeExcite(\n",
              "          (conv_reduce): Conv2d(144, 6, kernel_size=(1, 1), stride=(1, 1))\n",
              "          (act1): SiLU(inplace=True)\n",
              "          (conv_expand): Conv2d(6, 144, kernel_size=(1, 1), stride=(1, 1))\n",
              "        )\n",
              "        (conv_pwl): Conv2d(144, 40, kernel_size=(1, 1), stride=(1, 1), bias=False)\n",
              "        (bn3): BatchNorm2d(40, eps=0.001, momentum=0.1, affine=True, track_running_stats=True)\n",
              "      )\n",
              "      (1): InvertedResidual(\n",
              "        (conv_pw): Conv2d(40, 240, kernel_size=(1, 1), stride=(1, 1), bias=False)\n",
              "        (bn1): BatchNorm2d(240, eps=0.001, momentum=0.1, affine=True, track_running_stats=True)\n",
              "        (act1): SiLU(inplace=True)\n",
              "        (conv_dw): Conv2d(240, 240, kernel_size=(5, 5), stride=(1, 1), padding=(2, 2), groups=240, bias=False)\n",
              "        (bn2): BatchNorm2d(240, eps=0.001, momentum=0.1, affine=True, track_running_stats=True)\n",
              "        (act2): SiLU(inplace=True)\n",
              "        (se): SqueezeExcite(\n",
              "          (conv_reduce): Conv2d(240, 10, kernel_size=(1, 1), stride=(1, 1))\n",
              "          (act1): SiLU(inplace=True)\n",
              "          (conv_expand): Conv2d(10, 240, kernel_size=(1, 1), stride=(1, 1))\n",
              "        )\n",
              "        (conv_pwl): Conv2d(240, 40, kernel_size=(1, 1), stride=(1, 1), bias=False)\n",
              "        (bn3): BatchNorm2d(40, eps=0.001, momentum=0.1, affine=True, track_running_stats=True)\n",
              "      )\n",
              "    )\n",
              "    (3): Sequential(\n",
              "      (0): InvertedResidual(\n",
              "        (conv_pw): Conv2d(40, 240, kernel_size=(1, 1), stride=(1, 1), bias=False)\n",
              "        (bn1): BatchNorm2d(240, eps=0.001, momentum=0.1, affine=True, track_running_stats=True)\n",
              "        (act1): SiLU(inplace=True)\n",
              "        (conv_dw): Conv2dSame(240, 240, kernel_size=(3, 3), stride=(2, 2), groups=240, bias=False)\n",
              "        (bn2): BatchNorm2d(240, eps=0.001, momentum=0.1, affine=True, track_running_stats=True)\n",
              "        (act2): SiLU(inplace=True)\n",
              "        (se): SqueezeExcite(\n",
              "          (conv_reduce): Conv2d(240, 10, kernel_size=(1, 1), stride=(1, 1))\n",
              "          (act1): SiLU(inplace=True)\n",
              "          (conv_expand): Conv2d(10, 240, kernel_size=(1, 1), stride=(1, 1))\n",
              "        )\n",
              "        (conv_pwl): Conv2d(240, 80, kernel_size=(1, 1), stride=(1, 1), bias=False)\n",
              "        (bn3): BatchNorm2d(80, eps=0.001, momentum=0.1, affine=True, track_running_stats=True)\n",
              "      )\n",
              "      (1): InvertedResidual(\n",
              "        (conv_pw): Conv2d(80, 480, kernel_size=(1, 1), stride=(1, 1), bias=False)\n",
              "        (bn1): BatchNorm2d(480, eps=0.001, momentum=0.1, affine=True, track_running_stats=True)\n",
              "        (act1): SiLU(inplace=True)\n",
              "        (conv_dw): Conv2d(480, 480, kernel_size=(3, 3), stride=(1, 1), padding=(1, 1), groups=480, bias=False)\n",
              "        (bn2): BatchNorm2d(480, eps=0.001, momentum=0.1, affine=True, track_running_stats=True)\n",
              "        (act2): SiLU(inplace=True)\n",
              "        (se): SqueezeExcite(\n",
              "          (conv_reduce): Conv2d(480, 20, kernel_size=(1, 1), stride=(1, 1))\n",
              "          (act1): SiLU(inplace=True)\n",
              "          (conv_expand): Conv2d(20, 480, kernel_size=(1, 1), stride=(1, 1))\n",
              "        )\n",
              "        (conv_pwl): Conv2d(480, 80, kernel_size=(1, 1), stride=(1, 1), bias=False)\n",
              "        (bn3): BatchNorm2d(80, eps=0.001, momentum=0.1, affine=True, track_running_stats=True)\n",
              "      )\n",
              "      (2): InvertedResidual(\n",
              "        (conv_pw): Conv2d(80, 480, kernel_size=(1, 1), stride=(1, 1), bias=False)\n",
              "        (bn1): BatchNorm2d(480, eps=0.001, momentum=0.1, affine=True, track_running_stats=True)\n",
              "        (act1): SiLU(inplace=True)\n",
              "        (conv_dw): Conv2d(480, 480, kernel_size=(3, 3), stride=(1, 1), padding=(1, 1), groups=480, bias=False)\n",
              "        (bn2): BatchNorm2d(480, eps=0.001, momentum=0.1, affine=True, track_running_stats=True)\n",
              "        (act2): SiLU(inplace=True)\n",
              "        (se): SqueezeExcite(\n",
              "          (conv_reduce): Conv2d(480, 20, kernel_size=(1, 1), stride=(1, 1))\n",
              "          (act1): SiLU(inplace=True)\n",
              "          (conv_expand): Conv2d(20, 480, kernel_size=(1, 1), stride=(1, 1))\n",
              "        )\n",
              "        (conv_pwl): Conv2d(480, 80, kernel_size=(1, 1), stride=(1, 1), bias=False)\n",
              "        (bn3): BatchNorm2d(80, eps=0.001, momentum=0.1, affine=True, track_running_stats=True)\n",
              "      )\n",
              "    )\n",
              "    (4): Sequential(\n",
              "      (0): InvertedResidual(\n",
              "        (conv_pw): Conv2d(80, 480, kernel_size=(1, 1), stride=(1, 1), bias=False)\n",
              "        (bn1): BatchNorm2d(480, eps=0.001, momentum=0.1, affine=True, track_running_stats=True)\n",
              "        (act1): SiLU(inplace=True)\n",
              "        (conv_dw): Conv2d(480, 480, kernel_size=(5, 5), stride=(1, 1), padding=(2, 2), groups=480, bias=False)\n",
              "        (bn2): BatchNorm2d(480, eps=0.001, momentum=0.1, affine=True, track_running_stats=True)\n",
              "        (act2): SiLU(inplace=True)\n",
              "        (se): SqueezeExcite(\n",
              "          (conv_reduce): Conv2d(480, 20, kernel_size=(1, 1), stride=(1, 1))\n",
              "          (act1): SiLU(inplace=True)\n",
              "          (conv_expand): Conv2d(20, 480, kernel_size=(1, 1), stride=(1, 1))\n",
              "        )\n",
              "        (conv_pwl): Conv2d(480, 112, kernel_size=(1, 1), stride=(1, 1), bias=False)\n",
              "        (bn3): BatchNorm2d(112, eps=0.001, momentum=0.1, affine=True, track_running_stats=True)\n",
              "      )\n",
              "      (1): InvertedResidual(\n",
              "        (conv_pw): Conv2d(112, 672, kernel_size=(1, 1), stride=(1, 1), bias=False)\n",
              "        (bn1): BatchNorm2d(672, eps=0.001, momentum=0.1, affine=True, track_running_stats=True)\n",
              "        (act1): SiLU(inplace=True)\n",
              "        (conv_dw): Conv2d(672, 672, kernel_size=(5, 5), stride=(1, 1), padding=(2, 2), groups=672, bias=False)\n",
              "        (bn2): BatchNorm2d(672, eps=0.001, momentum=0.1, affine=True, track_running_stats=True)\n",
              "        (act2): SiLU(inplace=True)\n",
              "        (se): SqueezeExcite(\n",
              "          (conv_reduce): Conv2d(672, 28, kernel_size=(1, 1), stride=(1, 1))\n",
              "          (act1): SiLU(inplace=True)\n",
              "          (conv_expand): Conv2d(28, 672, kernel_size=(1, 1), stride=(1, 1))\n",
              "        )\n",
              "        (conv_pwl): Conv2d(672, 112, kernel_size=(1, 1), stride=(1, 1), bias=False)\n",
              "        (bn3): BatchNorm2d(112, eps=0.001, momentum=0.1, affine=True, track_running_stats=True)\n",
              "      )\n",
              "      (2): InvertedResidual(\n",
              "        (conv_pw): Conv2d(112, 672, kernel_size=(1, 1), stride=(1, 1), bias=False)\n",
              "        (bn1): BatchNorm2d(672, eps=0.001, momentum=0.1, affine=True, track_running_stats=True)\n",
              "        (act1): SiLU(inplace=True)\n",
              "        (conv_dw): Conv2d(672, 672, kernel_size=(5, 5), stride=(1, 1), padding=(2, 2), groups=672, bias=False)\n",
              "        (bn2): BatchNorm2d(672, eps=0.001, momentum=0.1, affine=True, track_running_stats=True)\n",
              "        (act2): SiLU(inplace=True)\n",
              "        (se): SqueezeExcite(\n",
              "          (conv_reduce): Conv2d(672, 28, kernel_size=(1, 1), stride=(1, 1))\n",
              "          (act1): SiLU(inplace=True)\n",
              "          (conv_expand): Conv2d(28, 672, kernel_size=(1, 1), stride=(1, 1))\n",
              "        )\n",
              "        (conv_pwl): Conv2d(672, 112, kernel_size=(1, 1), stride=(1, 1), bias=False)\n",
              "        (bn3): BatchNorm2d(112, eps=0.001, momentum=0.1, affine=True, track_running_stats=True)\n",
              "      )\n",
              "    )\n",
              "    (5): Sequential(\n",
              "      (0): InvertedResidual(\n",
              "        (conv_pw): Conv2d(112, 672, kernel_size=(1, 1), stride=(1, 1), bias=False)\n",
              "        (bn1): BatchNorm2d(672, eps=0.001, momentum=0.1, affine=True, track_running_stats=True)\n",
              "        (act1): SiLU(inplace=True)\n",
              "        (conv_dw): Conv2dSame(672, 672, kernel_size=(5, 5), stride=(2, 2), groups=672, bias=False)\n",
              "        (bn2): BatchNorm2d(672, eps=0.001, momentum=0.1, affine=True, track_running_stats=True)\n",
              "        (act2): SiLU(inplace=True)\n",
              "        (se): SqueezeExcite(\n",
              "          (conv_reduce): Conv2d(672, 28, kernel_size=(1, 1), stride=(1, 1))\n",
              "          (act1): SiLU(inplace=True)\n",
              "          (conv_expand): Conv2d(28, 672, kernel_size=(1, 1), stride=(1, 1))\n",
              "        )\n",
              "        (conv_pwl): Conv2d(672, 192, kernel_size=(1, 1), stride=(1, 1), bias=False)\n",
              "        (bn3): BatchNorm2d(192, eps=0.001, momentum=0.1, affine=True, track_running_stats=True)\n",
              "      )\n",
              "      (1): InvertedResidual(\n",
              "        (conv_pw): Conv2d(192, 1152, kernel_size=(1, 1), stride=(1, 1), bias=False)\n",
              "        (bn1): BatchNorm2d(1152, eps=0.001, momentum=0.1, affine=True, track_running_stats=True)\n",
              "        (act1): SiLU(inplace=True)\n",
              "        (conv_dw): Conv2d(1152, 1152, kernel_size=(5, 5), stride=(1, 1), padding=(2, 2), groups=1152, bias=False)\n",
              "        (bn2): BatchNorm2d(1152, eps=0.001, momentum=0.1, affine=True, track_running_stats=True)\n",
              "        (act2): SiLU(inplace=True)\n",
              "        (se): SqueezeExcite(\n",
              "          (conv_reduce): Conv2d(1152, 48, kernel_size=(1, 1), stride=(1, 1))\n",
              "          (act1): SiLU(inplace=True)\n",
              "          (conv_expand): Conv2d(48, 1152, kernel_size=(1, 1), stride=(1, 1))\n",
              "        )\n",
              "        (conv_pwl): Conv2d(1152, 192, kernel_size=(1, 1), stride=(1, 1), bias=False)\n",
              "        (bn3): BatchNorm2d(192, eps=0.001, momentum=0.1, affine=True, track_running_stats=True)\n",
              "      )\n",
              "      (2): InvertedResidual(\n",
              "        (conv_pw): Conv2d(192, 1152, kernel_size=(1, 1), stride=(1, 1), bias=False)\n",
              "        (bn1): BatchNorm2d(1152, eps=0.001, momentum=0.1, affine=True, track_running_stats=True)\n",
              "        (act1): SiLU(inplace=True)\n",
              "        (conv_dw): Conv2d(1152, 1152, kernel_size=(5, 5), stride=(1, 1), padding=(2, 2), groups=1152, bias=False)\n",
              "        (bn2): BatchNorm2d(1152, eps=0.001, momentum=0.1, affine=True, track_running_stats=True)\n",
              "        (act2): SiLU(inplace=True)\n",
              "        (se): SqueezeExcite(\n",
              "          (conv_reduce): Conv2d(1152, 48, kernel_size=(1, 1), stride=(1, 1))\n",
              "          (act1): SiLU(inplace=True)\n",
              "          (conv_expand): Conv2d(48, 1152, kernel_size=(1, 1), stride=(1, 1))\n",
              "        )\n",
              "        (conv_pwl): Conv2d(1152, 192, kernel_size=(1, 1), stride=(1, 1), bias=False)\n",
              "        (bn3): BatchNorm2d(192, eps=0.001, momentum=0.1, affine=True, track_running_stats=True)\n",
              "      )\n",
              "      (3): InvertedResidual(\n",
              "        (conv_pw): Conv2d(192, 1152, kernel_size=(1, 1), stride=(1, 1), bias=False)\n",
              "        (bn1): BatchNorm2d(1152, eps=0.001, momentum=0.1, affine=True, track_running_stats=True)\n",
              "        (act1): SiLU(inplace=True)\n",
              "        (conv_dw): Conv2d(1152, 1152, kernel_size=(5, 5), stride=(1, 1), padding=(2, 2), groups=1152, bias=False)\n",
              "        (bn2): BatchNorm2d(1152, eps=0.001, momentum=0.1, affine=True, track_running_stats=True)\n",
              "        (act2): SiLU(inplace=True)\n",
              "        (se): SqueezeExcite(\n",
              "          (conv_reduce): Conv2d(1152, 48, kernel_size=(1, 1), stride=(1, 1))\n",
              "          (act1): SiLU(inplace=True)\n",
              "          (conv_expand): Conv2d(48, 1152, kernel_size=(1, 1), stride=(1, 1))\n",
              "        )\n",
              "        (conv_pwl): Conv2d(1152, 192, kernel_size=(1, 1), stride=(1, 1), bias=False)\n",
              "        (bn3): BatchNorm2d(192, eps=0.001, momentum=0.1, affine=True, track_running_stats=True)\n",
              "      )\n",
              "    )\n",
              "    (6): Sequential(\n",
              "      (0): InvertedResidual(\n",
              "        (conv_pw): Conv2d(192, 1152, kernel_size=(1, 1), stride=(1, 1), bias=False)\n",
              "        (bn1): BatchNorm2d(1152, eps=0.001, momentum=0.1, affine=True, track_running_stats=True)\n",
              "        (act1): SiLU(inplace=True)\n",
              "        (conv_dw): Conv2d(1152, 1152, kernel_size=(3, 3), stride=(1, 1), padding=(1, 1), groups=1152, bias=False)\n",
              "        (bn2): BatchNorm2d(1152, eps=0.001, momentum=0.1, affine=True, track_running_stats=True)\n",
              "        (act2): SiLU(inplace=True)\n",
              "        (se): SqueezeExcite(\n",
              "          (conv_reduce): Conv2d(1152, 48, kernel_size=(1, 1), stride=(1, 1))\n",
              "          (act1): SiLU(inplace=True)\n",
              "          (conv_expand): Conv2d(48, 1152, kernel_size=(1, 1), stride=(1, 1))\n",
              "        )\n",
              "        (conv_pwl): Conv2d(1152, 320, kernel_size=(1, 1), stride=(1, 1), bias=False)\n",
              "        (bn3): BatchNorm2d(320, eps=0.001, momentum=0.1, affine=True, track_running_stats=True)\n",
              "      )\n",
              "    )\n",
              "  )\n",
              "  (conv_head): Conv2d(320, 1280, kernel_size=(1, 1), stride=(1, 1), bias=False)\n",
              "  (bn2): BatchNorm2d(1280, eps=0.001, momentum=0.1, affine=True, track_running_stats=True)\n",
              "  (act2): SiLU(inplace=True)\n",
              "  (global_pool): SelectAdaptivePool2d (pool_type=avg, flatten=True)\n",
              "  (classifier): Identity()\n",
              ")"
            ]
          },
          "execution_count": 14,
          "metadata": {},
          "output_type": "execute_result"
        }
      ],
      "source": [
        "import timm\n",
        "model=timm.create_model('tf_efficientnet_b0_ns', pretrained=False)\n",
        "model.classifier=torch.nn.Identity()\n",
        "model.load_state_dict(torch.load('D:/Users/amira/Desktop/Course Work/models/pretrained_faces/state_vggface2_enet0_new.pt'))\n",
        "\n",
        "model=model.to(device)\n",
        "model.eval()"
      ]
    },
    {
      "cell_type": "code",
      "execution_count": 28,
      "metadata": {
        "id": "7W0lHTK4C-x4"
      },
      "outputs": [],
      "source": [
        "test_transforms = transforms.Compose(\n",
        "    [\n",
        "        transforms.Resize((224,224)),\n",
        "        transforms.ToTensor(),\n",
        "        transforms.Normalize(mean=[0.485, 0.456, 0.406],\n",
        "                                     std=[0.229, 0.224, 0.225])\n",
        "    ]\n",
        ")"
      ]
    },
    {
      "cell_type": "code",
      "execution_count": 29,
      "metadata": {
        "id": "kFR2ITBTC-x4",
        "outputId": "fbf85489-07f6-4494-9c3b-c26827441e0f"
      },
      "outputs": [
        {
          "name": "stderr",
          "output_type": "stream",
          "text": [
            "100%|██████████| 1650/1650 [01:11<00:00, 23.19it/s]"
          ]
        },
        {
          "name": "stdout",
          "output_type": "stream",
          "text": [
            "1650\n"
          ]
        },
        {
          "name": "stderr",
          "output_type": "stream",
          "text": [
            "\n"
          ]
        }
      ],
      "source": [
        "embeddings=[]\n",
        "i=0\n",
        "for filename in tqdm(sorted(os.listdir(faces_path), key=compare_filenames)):\n",
        "    faces_dir=os.path.join(faces_path,filename)\n",
        "    imgs=[]\n",
        "    for img_name in sorted(os.listdir(faces_dir), key=compare_filenames):\n",
        "        img = Image.open(os.path.join(faces_dir,img_name))\n",
        "        img_tensor = test_transforms(img)\n",
        "        imgs.append(img_tensor)\n",
        "\n",
        "    if len(imgs)>0:        \n",
        "        scores = model(torch.stack(imgs, dim=0).to(device))\n",
        "        scores=scores.data.cpu().numpy()\n",
        "    else:\n",
        "        scores=[]\n",
        "\n",
        "    embeddings.append(scores)\n",
        "    if len(scores)!=len(bboxes[i]):\n",
        "        print('Error',videoname,filename,i,len(scores),len(bboxes[i]))\n",
        "    i+=1\n",
        "\n",
        "print(len(embeddings))"
      ]
    },
    {
      "cell_type": "markdown",
      "metadata": {
        "id": "0oewnUDAC-x4"
      },
      "source": [
        "## Faces only "
      ]
    },
    {
      "cell_type": "code",
      "execution_count": 30,
      "metadata": {
        "id": "630GTN6ZC-x5"
      },
      "outputs": [
        {
          "name": "stdout",
          "output_type": "stream",
          "text": [
            "13 [1650, 341, 959, 420, 449, 920, 430, 608, 3, 78, 32, 93, 60]\n"
          ]
        }
      ],
      "source": [
        "face_files=[]\n",
        "subjects=None\n",
        "X_recent_features=None\n",
        "for i,filename in enumerate(sorted(os.listdir(faces_path), key=compare_filenames)):\n",
        "    f=preprocessing.normalize(embeddings[i],norm='l2')\n",
        "    if X_recent_features is None:\n",
        "        for face_ind in range(len(f)):\n",
        "            face_files.append([(i,filename,face_ind)])\n",
        "        X_recent_features=f\n",
        "    else:\n",
        "        dist_matrix=pairwise_distances(f,X_recent_features)\n",
        "        sorted_indices=dist_matrix.argsort(axis=1)\n",
        "        for face_ind,sorted_inds in enumerate(sorted_indices):\n",
        "            closest_ind=sorted_inds[0]\n",
        "            min_dist=dist_matrix[face_ind][closest_ind]\n",
        "            if min_dist<0.85 or (len(sorted_inds)>1 and min_dist<dist_matrix[face_ind][sorted_inds[1]]-0.1):\n",
        "                X_recent_features[closest_ind]=f[face_ind]\n",
        "                face_files[closest_ind].append((i,filename,face_ind))\n",
        "            else:\n",
        "                face_files.append([(i,filename,face_ind)])\n",
        "                X_recent_features=np.concatenate((X_recent_features,[f[face_ind]]),axis=0)\n",
        "print(len(face_files), [len(files) for files in face_files])"
      ]
    },
    {
      "cell_type": "markdown",
      "metadata": {
        "id": "hsWIU8DbC-x5"
      },
      "source": [
        "## Faces+bboxes"
      ]
    },
    {
      "cell_type": "code",
      "execution_count": 31,
      "metadata": {
        "id": "Eu5MA1Z3C-x5"
      },
      "outputs": [],
      "source": [
        "def get_square(bb):\n",
        "    return abs((bb[2]-bb[0])*(bb[3]-bb[1]))\n",
        "SQUARE_THRESHOLD=900"
      ]
    },
    {
      "cell_type": "code",
      "execution_count": 32,
      "metadata": {
        "id": "0rSvzZnAC-x5",
        "outputId": "f114ed17-9117-4957-e918-ea332bb2355b"
      },
      "outputs": [
        {
          "name": "stdout",
          "output_type": "stream",
          "text": [
            "11 [1650, 364, 967, 1150, 12, 737, 3, 32, 78, 88, 60]\n"
          ]
        }
      ],
      "source": [
        "face_files=[]\n",
        "subjects=None\n",
        "X_recent_features=None\n",
        "recent_bboxes=[]\n",
        "for i,filename in enumerate(sorted(os.listdir(faces_path), key=compare_filenames)):\n",
        "    f=preprocessing.normalize(embeddings[i],norm='l2')\n",
        "    if X_recent_features is None:\n",
        "        large_face_indices=[]\n",
        "        for face_ind in range(len(f)):\n",
        "            if get_square(bboxes[i][face_ind])>SQUARE_THRESHOLD:\n",
        "                large_face_indices.append(face_ind)\n",
        "                recent_bboxes.append(bboxes[i][face_ind])\n",
        "                face_files.append([(i,filename,face_ind)])\n",
        "        if len(large_face_indices)>0:\n",
        "            X_recent_features=f[np.array(large_face_indices)]\n",
        "        #print(X_recent_features.shape)\n",
        "        #recent_bboxes=list(deepcopy(bboxes[i]))\n",
        "    else:\n",
        "        matched_faces=[]\n",
        "        for face_ind,face_bbox in enumerate(bboxes[i]):\n",
        "            closest_ind=-1\n",
        "            best_iou=0\n",
        "            for ind, bbox in enumerate(recent_bboxes):\n",
        "                iou=get_iou(face_bbox,bbox)\n",
        "                if iou>best_iou:\n",
        "                    best_iou=iou\n",
        "                    closest_ind=ind\n",
        "            if best_iou>0.15:\n",
        "                d=np.linalg.norm(f[face_ind]-X_recent_features[closest_ind])\n",
        "                if d<1.0:\n",
        "                    X_recent_features[closest_ind]=f[face_ind]\n",
        "                    face_files[closest_ind].append((i,filename,face_ind))\n",
        "                    recent_bboxes[closest_ind]=bboxes[i][face_ind]\n",
        "                    matched_faces.append(face_ind)\n",
        "        if len(matched_faces)<len(bboxes[i]):\n",
        "            dist_matrix=pairwise_distances(f,X_recent_features)\n",
        "            sorted_indices=dist_matrix.argsort(axis=1)\n",
        "            for face_ind,sorted_inds in enumerate(sorted_indices):\n",
        "                if face_ind in matched_faces or get_square(bboxes[i][face_ind])<=SQUARE_THRESHOLD:\n",
        "                    continue\n",
        "                closest_ind=sorted_inds[0]\n",
        "                min_dist=dist_matrix[face_ind][closest_ind]\n",
        "                if min_dist<0.85:# or (len(sorted_inds)>1 and min_dist<dist_matrix[face_ind][sorted_inds[1]]-0.1):\n",
        "                    X_recent_features[closest_ind]=f[face_ind]\n",
        "                    face_files[closest_ind].append((i,filename,face_ind))\n",
        "                    recent_bboxes[closest_ind]=bboxes[i][face_ind]\n",
        "                else:\n",
        "                    face_files.append([(i,filename,face_ind)])\n",
        "                    X_recent_features=np.concatenate((X_recent_features,[f[face_ind]]),axis=0)\n",
        "                    recent_bboxes.append(bboxes[i][face_ind])\n",
        "                    #print(filename,i,X_recent_features.shape,face_ind,closest_ind,dist_matrix[face_ind][closest_ind])\n",
        "                    #print(dist_matrix)\n",
        "print(len(face_files), [len(files) for files in face_files])"
      ]
    },
    {
      "cell_type": "markdown",
      "metadata": {
        "id": "rkElDfwyC-x6"
      },
      "source": [
        "## Text + faces"
      ]
    },
    {
      "cell_type": "code",
      "execution_count": 34,
      "metadata": {
        "id": "HxtRydTEC-x6"
      },
      "outputs": [],
      "source": [
        "import editdistance\n",
        "def levenstein(txt1,txt2):\n",
        "    if txt1=='' or txt2=='':\n",
        "        return 1\n",
        "    #return editdistance.eval(txt1,txt2)\n",
        "    return (editdistance.eval(txt1,txt2))/(max(len(txt1),len(txt2)))\n",
        "\n",
        "def get_name(name2count):\n",
        "    #print(name2count)\n",
        "    return max(name2count, key=name2count.get)"
      ]
    },
    {
      "cell_type": "code",
      "execution_count": 35,
      "metadata": {
        "id": "HL2XvAMfC-x6"
      },
      "outputs": [],
      "source": [
        "face_files=[]\n",
        "recent_texts=[]\n",
        "X_recent_features=[]\n",
        "\n",
        "for i,filename in enumerate(sorted(os.listdir(faces_path), key=compare_filenames)):\n",
        "    photo_text=combine_words(all_text[i])\n",
        "    best_texts=get_closest_texts(bboxes[i],photo_text)\n",
        "    f=preprocessing.normalize(embeddings[i],norm='l2')\n",
        "\n",
        "    if len(recent_texts)==0:\n",
        "        for face_ind,txt in enumerate(best_texts):\n",
        "            if len(txt)>=4:\n",
        "                recent_texts.append({txt:1})\n",
        "                face_files.append([(i,filename,face_ind)])\n",
        "                X_recent_features.append(f[face_ind])\n",
        "    else:\n",
        "        for face_ind,txt in enumerate(best_texts):\n",
        "            if len(txt)>=4:\n",
        "                closest_ind=-1\n",
        "                best_d_txt=1\n",
        "                for ind,recent_text_set in enumerate(recent_texts):\n",
        "                    d_txt=min([levenstein(txt,recent_text) for recent_text in recent_text_set])\n",
        "                    if d_txt<best_d_txt:\n",
        "                        best_d_txt=d_txt\n",
        "                        closest_ind=ind\n",
        "\n",
        "                face_dist=np.linalg.norm(X_recent_features[closest_ind]-f[face_ind])\n",
        "                if (best_d_txt<=0.45 and face_dist<=1.0) or face_dist<=0.8:\n",
        "                    if txt in recent_texts[closest_ind]:\n",
        "                        recent_texts[closest_ind][txt]+=1\n",
        "                    else:\n",
        "                        recent_texts[closest_ind][txt]=1\n",
        "                    face_files[closest_ind].append((i,filename,face_ind))\n",
        "                    X_recent_features[closest_ind]=f[face_ind]\n",
        "                elif best_d_txt>0.45:\n",
        "                    recent_texts.append({txt:1})\n",
        "                    face_files.append([(i,filename,face_ind)])\n",
        "                    X_recent_features.append(f[face_ind])\n",
        "                    #print(videoname,filename,i,face_ind,face_dist,txt,best_d_txt,recent_texts[closest_ind])\n",
        "\n",
        "subjects=[get_name(name2count) for name2count in recent_texts]"
      ]
    },
    {
      "cell_type": "markdown",
      "metadata": {
        "id": "jtzmt7qjC-x7"
      },
      "source": [
        "---------------"
      ]
    },
    {
      "cell_type": "code",
      "execution_count": 36,
      "metadata": {
        "id": "MLde3zpCC-x7",
        "outputId": "d52522f2-35ae-4f22-afbd-e851f5099128"
      },
      "outputs": [
        {
          "name": "stdout",
          "output_type": "stream",
          "text": [
            "0 1230 (0, '1', 0)\n",
            "1 475 (14, '15', 1)\n",
            "2 1230 (19, '20', 1)\n",
            "3 546 (41, '42', 2)\n",
            "5 204 (73, '74', 1)\n"
          ]
        },
        {
          "data": {
            "image/png": "[encoded data removed]",
            "text/plain": [
              "<Figure size 720x720 with 100 Axes>"
            ]
          },
          "metadata": {
            "needs_background": "light"
          },
          "output_type": "display_data"
        }
      ],
      "source": [
        "import random\n",
        "plt_ind=1\n",
        "minNoPhotos=20\n",
        "min_num_files=100\n",
        "no_clusters=len([i for i,files in enumerate(face_files) if len(files)>min_num_files])\n",
        "plt.figure(figsize=(10,10))\n",
        "for i,files in enumerate(face_files):\n",
        "    if len(files)>min_num_files:\n",
        "        print(i,len(files),files[0])\n",
        "        for j in range(minNoPhotos):\n",
        "            f=random.choice(files)\n",
        "            fpath=os.path.join(faces_path,f[1],str(f[2])+'.png')\n",
        "            plt.subplot(no_clusters,minNoPhotos,plt_ind)\n",
        "            if j==0 and subjects is not None:\n",
        "                plt.title(subjects[i])\n",
        "            plt.imshow(Image.open(fpath))\n",
        "            plt.axis('off')\n",
        "            plt_ind+=1\n",
        "plt.show()"
      ]
    },
    {
      "cell_type": "markdown",
      "metadata": {
        "id": "FUyE2xTTC-x7"
      },
      "source": [
        "# Emotions"
      ]
    },
    {
      "cell_type": "code",
      "execution_count": 39,
      "metadata": {
        "id": "M0V7TO9BC-x7"
      },
      "outputs": [],
      "source": [
        "if False:\n",
        "    model_name='enet_b2_8'\n",
        "    IMG_SIZE=260 #224 #\n",
        "else:\n",
        "    model_name='enet_b0_8_best_afew'\n",
        "    IMG_SIZE=224\n",
        "PATH='D:/Users/amira/Desktop/Course Work/models/affectnet_emotions/'+model_name+'.pt'\n",
        "test_transforms = transforms.Compose(\n",
        "    [\n",
        "        transforms.Resize((IMG_SIZE,IMG_SIZE)),\n",
        "        #transforms.RandomHorizontalFlip(),\n",
        "        transforms.ToTensor(),\n",
        "        transforms.Normalize(mean=[0.485, 0.456, 0.406],\n",
        "                                     std=[0.229, 0.224, 0.225])\n",
        "    ]\n",
        ")\n",
        "feature_extractor_model = torch.load(PATH)"
      ]
    },
    {
      "cell_type": "code",
      "execution_count": 40,
      "metadata": {
        "id": "6czuVhOiC-x7",
        "outputId": "d2a5dc7a-b299-425e-eb76-623bc8ad9487"
      },
      "outputs": [
        {
          "name": "stdout",
          "output_type": "stream",
          "text": [
            "(8, 1280) [[ 0.00515123 -0.00972202 -0.01203173 ...  0.05333852 -0.06858566\n",
            "  -0.12183831]\n",
            " [ 0.05973773 -0.01306326 -0.00981904 ...  0.04521868  0.03189689\n",
            "   0.16130415]\n",
            " [-0.02749952 -0.1972647   0.02720864 ...  0.18251328 -0.03125019\n",
            "  -0.07623435]\n",
            " ...\n",
            " [-0.15567695  0.09653756 -0.02194299 ... -0.07001057  0.00730149\n",
            "   0.11114535]\n",
            " [ 0.08313771 -0.16218805 -0.10610525 ... -0.05499801 -0.00550514\n",
            "   0.12355816]\n",
            " [-0.04981646  0.23458022 -0.16780637 ... -0.24049994  0.02247157\n",
            "  -0.10648516]]\n",
            "(8,) [-0.02634053  0.05532073 -0.09343545  0.01225835  0.05623824  0.05436933\n",
            " -0.0242617   0.02030101]\n"
          ]
        }
      ],
      "source": [
        "classifier_weights=feature_extractor_model.classifier[0].weight.cpu().data.numpy()\n",
        "classifier_bias=feature_extractor_model.classifier[0].bias.cpu().data.numpy()\n",
        "print(classifier_weights.shape,classifier_weights)\n",
        "print(classifier_bias.shape,classifier_bias)"
      ]
    },
    {
      "cell_type": "code",
      "execution_count": 41,
      "metadata": {
        "id": "yPsW5_87C-x8",
        "outputId": "71b08d9f-3e97-4310-ac6e-d47139003938"
      },
      "outputs": [
        {
          "data": {
            "text/plain": [
              "EfficientNet(\n",
              "  (conv_stem): Conv2dSame(3, 32, kernel_size=(3, 3), stride=(2, 2), bias=False)\n",
              "  (bn1): BatchNorm2d(32, eps=0.001, momentum=0.1, affine=True, track_running_stats=True)\n",
              "  (act1): SiLU(inplace=True)\n",
              "  (blocks): Sequential(\n",
              "    (0): Sequential(\n",
              "      (0): DepthwiseSeparableConv(\n",
              "        (conv_dw): Conv2d(32, 32, kernel_size=(3, 3), stride=(1, 1), padding=(1, 1), groups=32, bias=False)\n",
              "        (bn1): BatchNorm2d(32, eps=0.001, momentum=0.1, affine=True, track_running_stats=True)\n",
              "        (act1): SiLU(inplace=True)\n",
              "        (se): SqueezeExcite(\n",
              "          (conv_reduce): Conv2d(32, 8, kernel_size=(1, 1), stride=(1, 1))\n",
              "          (act1): SiLU(inplace=True)\n",
              "          (conv_expand): Conv2d(8, 32, kernel_size=(1, 1), stride=(1, 1))\n",
              "        )\n",
              "        (conv_pw): Conv2d(32, 16, kernel_size=(1, 1), stride=(1, 1), bias=False)\n",
              "        (bn2): BatchNorm2d(16, eps=0.001, momentum=0.1, affine=True, track_running_stats=True)\n",
              "        (act2): Identity()\n",
              "      )\n",
              "    )\n",
              "    (1): Sequential(\n",
              "      (0): InvertedResidual(\n",
              "        (conv_pw): Conv2d(16, 96, kernel_size=(1, 1), stride=(1, 1), bias=False)\n",
              "        (bn1): BatchNorm2d(96, eps=0.001, momentum=0.1, affine=True, track_running_stats=True)\n",
              "        (act1): SiLU(inplace=True)\n",
              "        (conv_dw): Conv2dSame(96, 96, kernel_size=(3, 3), stride=(2, 2), groups=96, bias=False)\n",
              "        (bn2): BatchNorm2d(96, eps=0.001, momentum=0.1, affine=True, track_running_stats=True)\n",
              "        (act2): SiLU(inplace=True)\n",
              "        (se): SqueezeExcite(\n",
              "          (conv_reduce): Conv2d(96, 4, kernel_size=(1, 1), stride=(1, 1))\n",
              "          (act1): SiLU(inplace=True)\n",
              "          (conv_expand): Conv2d(4, 96, kernel_size=(1, 1), stride=(1, 1))\n",
              "        )\n",
              "        (conv_pwl): Conv2d(96, 24, kernel_size=(1, 1), stride=(1, 1), bias=False)\n",
              "        (bn3): BatchNorm2d(24, eps=0.001, momentum=0.1, affine=True, track_running_stats=True)\n",
              "      )\n",
              "      (1): InvertedResidual(\n",
              "        (conv_pw): Conv2d(24, 144, kernel_size=(1, 1), stride=(1, 1), bias=False)\n",
              "        (bn1): BatchNorm2d(144, eps=0.001, momentum=0.1, affine=True, track_running_stats=True)\n",
              "        (act1): SiLU(inplace=True)\n",
              "        (conv_dw): Conv2d(144, 144, kernel_size=(3, 3), stride=(1, 1), padding=(1, 1), groups=144, bias=False)\n",
              "        (bn2): BatchNorm2d(144, eps=0.001, momentum=0.1, affine=True, track_running_stats=True)\n",
              "        (act2): SiLU(inplace=True)\n",
              "        (se): SqueezeExcite(\n",
              "          (conv_reduce): Conv2d(144, 6, kernel_size=(1, 1), stride=(1, 1))\n",
              "          (act1): SiLU(inplace=True)\n",
              "          (conv_expand): Conv2d(6, 144, kernel_size=(1, 1), stride=(1, 1))\n",
              "        )\n",
              "        (conv_pwl): Conv2d(144, 24, kernel_size=(1, 1), stride=(1, 1), bias=False)\n",
              "        (bn3): BatchNorm2d(24, eps=0.001, momentum=0.1, affine=True, track_running_stats=True)\n",
              "      )\n",
              "    )\n",
              "    (2): Sequential(\n",
              "      (0): InvertedResidual(\n",
              "        (conv_pw): Conv2d(24, 144, kernel_size=(1, 1), stride=(1, 1), bias=False)\n",
              "        (bn1): BatchNorm2d(144, eps=0.001, momentum=0.1, affine=True, track_running_stats=True)\n",
              "        (act1): SiLU(inplace=True)\n",
              "        (conv_dw): Conv2dSame(144, 144, kernel_size=(5, 5), stride=(2, 2), groups=144, bias=False)\n",
              "        (bn2): BatchNorm2d(144, eps=0.001, momentum=0.1, affine=True, track_running_stats=True)\n",
              "        (act2): SiLU(inplace=True)\n",
              "        (se): SqueezeExcite(\n",
              "          (conv_reduce): Conv2d(144, 6, kernel_size=(1, 1), stride=(1, 1))\n",
              "          (act1): SiLU(inplace=True)\n",
              "          (conv_expand): Conv2d(6, 144, kernel_size=(1, 1), stride=(1, 1))\n",
              "        )\n",
              "        (conv_pwl): Conv2d(144, 40, kernel_size=(1, 1), stride=(1, 1), bias=False)\n",
              "        (bn3): BatchNorm2d(40, eps=0.001, momentum=0.1, affine=True, track_running_stats=True)\n",
              "      )\n",
              "      (1): InvertedResidual(\n",
              "        (conv_pw): Conv2d(40, 240, kernel_size=(1, 1), stride=(1, 1), bias=False)\n",
              "        (bn1): BatchNorm2d(240, eps=0.001, momentum=0.1, affine=True, track_running_stats=True)\n",
              "        (act1): SiLU(inplace=True)\n",
              "        (conv_dw): Conv2d(240, 240, kernel_size=(5, 5), stride=(1, 1), padding=(2, 2), groups=240, bias=False)\n",
              "        (bn2): BatchNorm2d(240, eps=0.001, momentum=0.1, affine=True, track_running_stats=True)\n",
              "        (act2): SiLU(inplace=True)\n",
              "        (se): SqueezeExcite(\n",
              "          (conv_reduce): Conv2d(240, 10, kernel_size=(1, 1), stride=(1, 1))\n",
              "          (act1): SiLU(inplace=True)\n",
              "          (conv_expand): Conv2d(10, 240, kernel_size=(1, 1), stride=(1, 1))\n",
              "        )\n",
              "        (conv_pwl): Conv2d(240, 40, kernel_size=(1, 1), stride=(1, 1), bias=False)\n",
              "        (bn3): BatchNorm2d(40, eps=0.001, momentum=0.1, affine=True, track_running_stats=True)\n",
              "      )\n",
              "    )\n",
              "    (3): Sequential(\n",
              "      (0): InvertedResidual(\n",
              "        (conv_pw): Conv2d(40, 240, kernel_size=(1, 1), stride=(1, 1), bias=False)\n",
              "        (bn1): BatchNorm2d(240, eps=0.001, momentum=0.1, affine=True, track_running_stats=True)\n",
              "        (act1): SiLU(inplace=True)\n",
              "        (conv_dw): Conv2dSame(240, 240, kernel_size=(3, 3), stride=(2, 2), groups=240, bias=False)\n",
              "        (bn2): BatchNorm2d(240, eps=0.001, momentum=0.1, affine=True, track_running_stats=True)\n",
              "        (act2): SiLU(inplace=True)\n",
              "        (se): SqueezeExcite(\n",
              "          (conv_reduce): Conv2d(240, 10, kernel_size=(1, 1), stride=(1, 1))\n",
              "          (act1): SiLU(inplace=True)\n",
              "          (conv_expand): Conv2d(10, 240, kernel_size=(1, 1), stride=(1, 1))\n",
              "        )\n",
              "        (conv_pwl): Conv2d(240, 80, kernel_size=(1, 1), stride=(1, 1), bias=False)\n",
              "        (bn3): BatchNorm2d(80, eps=0.001, momentum=0.1, affine=True, track_running_stats=True)\n",
              "      )\n",
              "      (1): InvertedResidual(\n",
              "        (conv_pw): Conv2d(80, 480, kernel_size=(1, 1), stride=(1, 1), bias=False)\n",
              "        (bn1): BatchNorm2d(480, eps=0.001, momentum=0.1, affine=True, track_running_stats=True)\n",
              "        (act1): SiLU(inplace=True)\n",
              "        (conv_dw): Conv2d(480, 480, kernel_size=(3, 3), stride=(1, 1), padding=(1, 1), groups=480, bias=False)\n",
              "        (bn2): BatchNorm2d(480, eps=0.001, momentum=0.1, affine=True, track_running_stats=True)\n",
              "        (act2): SiLU(inplace=True)\n",
              "        (se): SqueezeExcite(\n",
              "          (conv_reduce): Conv2d(480, 20, kernel_size=(1, 1), stride=(1, 1))\n",
              "          (act1): SiLU(inplace=True)\n",
              "          (conv_expand): Conv2d(20, 480, kernel_size=(1, 1), stride=(1, 1))\n",
              "        )\n",
              "        (conv_pwl): Conv2d(480, 80, kernel_size=(1, 1), stride=(1, 1), bias=False)\n",
              "        (bn3): BatchNorm2d(80, eps=0.001, momentum=0.1, affine=True, track_running_stats=True)\n",
              "      )\n",
              "      (2): InvertedResidual(\n",
              "        (conv_pw): Conv2d(80, 480, kernel_size=(1, 1), stride=(1, 1), bias=False)\n",
              "        (bn1): BatchNorm2d(480, eps=0.001, momentum=0.1, affine=True, track_running_stats=True)\n",
              "        (act1): SiLU(inplace=True)\n",
              "        (conv_dw): Conv2d(480, 480, kernel_size=(3, 3), stride=(1, 1), padding=(1, 1), groups=480, bias=False)\n",
              "        (bn2): BatchNorm2d(480, eps=0.001, momentum=0.1, affine=True, track_running_stats=True)\n",
              "        (act2): SiLU(inplace=True)\n",
              "        (se): SqueezeExcite(\n",
              "          (conv_reduce): Conv2d(480, 20, kernel_size=(1, 1), stride=(1, 1))\n",
              "          (act1): SiLU(inplace=True)\n",
              "          (conv_expand): Conv2d(20, 480, kernel_size=(1, 1), stride=(1, 1))\n",
              "        )\n",
              "        (conv_pwl): Conv2d(480, 80, kernel_size=(1, 1), stride=(1, 1), bias=False)\n",
              "        (bn3): BatchNorm2d(80, eps=0.001, momentum=0.1, affine=True, track_running_stats=True)\n",
              "      )\n",
              "    )\n",
              "    (4): Sequential(\n",
              "      (0): InvertedResidual(\n",
              "        (conv_pw): Conv2d(80, 480, kernel_size=(1, 1), stride=(1, 1), bias=False)\n",
              "        (bn1): BatchNorm2d(480, eps=0.001, momentum=0.1, affine=True, track_running_stats=True)\n",
              "        (act1): SiLU(inplace=True)\n",
              "        (conv_dw): Conv2d(480, 480, kernel_size=(5, 5), stride=(1, 1), padding=(2, 2), groups=480, bias=False)\n",
              "        (bn2): BatchNorm2d(480, eps=0.001, momentum=0.1, affine=True, track_running_stats=True)\n",
              "        (act2): SiLU(inplace=True)\n",
              "        (se): SqueezeExcite(\n",
              "          (conv_reduce): Conv2d(480, 20, kernel_size=(1, 1), stride=(1, 1))\n",
              "          (act1): SiLU(inplace=True)\n",
              "          (conv_expand): Conv2d(20, 480, kernel_size=(1, 1), stride=(1, 1))\n",
              "        )\n",
              "        (conv_pwl): Conv2d(480, 112, kernel_size=(1, 1), stride=(1, 1), bias=False)\n",
              "        (bn3): BatchNorm2d(112, eps=0.001, momentum=0.1, affine=True, track_running_stats=True)\n",
              "      )\n",
              "      (1): InvertedResidual(\n",
              "        (conv_pw): Conv2d(112, 672, kernel_size=(1, 1), stride=(1, 1), bias=False)\n",
              "        (bn1): BatchNorm2d(672, eps=0.001, momentum=0.1, affine=True, track_running_stats=True)\n",
              "        (act1): SiLU(inplace=True)\n",
              "        (conv_dw): Conv2d(672, 672, kernel_size=(5, 5), stride=(1, 1), padding=(2, 2), groups=672, bias=False)\n",
              "        (bn2): BatchNorm2d(672, eps=0.001, momentum=0.1, affine=True, track_running_stats=True)\n",
              "        (act2): SiLU(inplace=True)\n",
              "        (se): SqueezeExcite(\n",
              "          (conv_reduce): Conv2d(672, 28, kernel_size=(1, 1), stride=(1, 1))\n",
              "          (act1): SiLU(inplace=True)\n",
              "          (conv_expand): Conv2d(28, 672, kernel_size=(1, 1), stride=(1, 1))\n",
              "        )\n",
              "        (conv_pwl): Conv2d(672, 112, kernel_size=(1, 1), stride=(1, 1), bias=False)\n",
              "        (bn3): BatchNorm2d(112, eps=0.001, momentum=0.1, affine=True, track_running_stats=True)\n",
              "      )\n",
              "      (2): InvertedResidual(\n",
              "        (conv_pw): Conv2d(112, 672, kernel_size=(1, 1), stride=(1, 1), bias=False)\n",
              "        (bn1): BatchNorm2d(672, eps=0.001, momentum=0.1, affine=True, track_running_stats=True)\n",
              "        (act1): SiLU(inplace=True)\n",
              "        (conv_dw): Conv2d(672, 672, kernel_size=(5, 5), stride=(1, 1), padding=(2, 2), groups=672, bias=False)\n",
              "        (bn2): BatchNorm2d(672, eps=0.001, momentum=0.1, affine=True, track_running_stats=True)\n",
              "        (act2): SiLU(inplace=True)\n",
              "        (se): SqueezeExcite(\n",
              "          (conv_reduce): Conv2d(672, 28, kernel_size=(1, 1), stride=(1, 1))\n",
              "          (act1): SiLU(inplace=True)\n",
              "          (conv_expand): Conv2d(28, 672, kernel_size=(1, 1), stride=(1, 1))\n",
              "        )\n",
              "        (conv_pwl): Conv2d(672, 112, kernel_size=(1, 1), stride=(1, 1), bias=False)\n",
              "        (bn3): BatchNorm2d(112, eps=0.001, momentum=0.1, affine=True, track_running_stats=True)\n",
              "      )\n",
              "    )\n",
              "    (5): Sequential(\n",
              "      (0): InvertedResidual(\n",
              "        (conv_pw): Conv2d(112, 672, kernel_size=(1, 1), stride=(1, 1), bias=False)\n",
              "        (bn1): BatchNorm2d(672, eps=0.001, momentum=0.1, affine=True, track_running_stats=True)\n",
              "        (act1): SiLU(inplace=True)\n",
              "        (conv_dw): Conv2dSame(672, 672, kernel_size=(5, 5), stride=(2, 2), groups=672, bias=False)\n",
              "        (bn2): BatchNorm2d(672, eps=0.001, momentum=0.1, affine=True, track_running_stats=True)\n",
              "        (act2): SiLU(inplace=True)\n",
              "        (se): SqueezeExcite(\n",
              "          (conv_reduce): Conv2d(672, 28, kernel_size=(1, 1), stride=(1, 1))\n",
              "          (act1): SiLU(inplace=True)\n",
              "          (conv_expand): Conv2d(28, 672, kernel_size=(1, 1), stride=(1, 1))\n",
              "        )\n",
              "        (conv_pwl): Conv2d(672, 192, kernel_size=(1, 1), stride=(1, 1), bias=False)\n",
              "        (bn3): BatchNorm2d(192, eps=0.001, momentum=0.1, affine=True, track_running_stats=True)\n",
              "      )\n",
              "      (1): InvertedResidual(\n",
              "        (conv_pw): Conv2d(192, 1152, kernel_size=(1, 1), stride=(1, 1), bias=False)\n",
              "        (bn1): BatchNorm2d(1152, eps=0.001, momentum=0.1, affine=True, track_running_stats=True)\n",
              "        (act1): SiLU(inplace=True)\n",
              "        (conv_dw): Conv2d(1152, 1152, kernel_size=(5, 5), stride=(1, 1), padding=(2, 2), groups=1152, bias=False)\n",
              "        (bn2): BatchNorm2d(1152, eps=0.001, momentum=0.1, affine=True, track_running_stats=True)\n",
              "        (act2): SiLU(inplace=True)\n",
              "        (se): SqueezeExcite(\n",
              "          (conv_reduce): Conv2d(1152, 48, kernel_size=(1, 1), stride=(1, 1))\n",
              "          (act1): SiLU(inplace=True)\n",
              "          (conv_expand): Conv2d(48, 1152, kernel_size=(1, 1), stride=(1, 1))\n",
              "        )\n",
              "        (conv_pwl): Conv2d(1152, 192, kernel_size=(1, 1), stride=(1, 1), bias=False)\n",
              "        (bn3): BatchNorm2d(192, eps=0.001, momentum=0.1, affine=True, track_running_stats=True)\n",
              "      )\n",
              "      (2): InvertedResidual(\n",
              "        (conv_pw): Conv2d(192, 1152, kernel_size=(1, 1), stride=(1, 1), bias=False)\n",
              "        (bn1): BatchNorm2d(1152, eps=0.001, momentum=0.1, affine=True, track_running_stats=True)\n",
              "        (act1): SiLU(inplace=True)\n",
              "        (conv_dw): Conv2d(1152, 1152, kernel_size=(5, 5), stride=(1, 1), padding=(2, 2), groups=1152, bias=False)\n",
              "        (bn2): BatchNorm2d(1152, eps=0.001, momentum=0.1, affine=True, track_running_stats=True)\n",
              "        (act2): SiLU(inplace=True)\n",
              "        (se): SqueezeExcite(\n",
              "          (conv_reduce): Conv2d(1152, 48, kernel_size=(1, 1), stride=(1, 1))\n",
              "          (act1): SiLU(inplace=True)\n",
              "          (conv_expand): Conv2d(48, 1152, kernel_size=(1, 1), stride=(1, 1))\n",
              "        )\n",
              "        (conv_pwl): Conv2d(1152, 192, kernel_size=(1, 1), stride=(1, 1), bias=False)\n",
              "        (bn3): BatchNorm2d(192, eps=0.001, momentum=0.1, affine=True, track_running_stats=True)\n",
              "      )\n",
              "      (3): InvertedResidual(\n",
              "        (conv_pw): Conv2d(192, 1152, kernel_size=(1, 1), stride=(1, 1), bias=False)\n",
              "        (bn1): BatchNorm2d(1152, eps=0.001, momentum=0.1, affine=True, track_running_stats=True)\n",
              "        (act1): SiLU(inplace=True)\n",
              "        (conv_dw): Conv2d(1152, 1152, kernel_size=(5, 5), stride=(1, 1), padding=(2, 2), groups=1152, bias=False)\n",
              "        (bn2): BatchNorm2d(1152, eps=0.001, momentum=0.1, affine=True, track_running_stats=True)\n",
              "        (act2): SiLU(inplace=True)\n",
              "        (se): SqueezeExcite(\n",
              "          (conv_reduce): Conv2d(1152, 48, kernel_size=(1, 1), stride=(1, 1))\n",
              "          (act1): SiLU(inplace=True)\n",
              "          (conv_expand): Conv2d(48, 1152, kernel_size=(1, 1), stride=(1, 1))\n",
              "        )\n",
              "        (conv_pwl): Conv2d(1152, 192, kernel_size=(1, 1), stride=(1, 1), bias=False)\n",
              "        (bn3): BatchNorm2d(192, eps=0.001, momentum=0.1, affine=True, track_running_stats=True)\n",
              "      )\n",
              "    )\n",
              "    (6): Sequential(\n",
              "      (0): InvertedResidual(\n",
              "        (conv_pw): Conv2d(192, 1152, kernel_size=(1, 1), stride=(1, 1), bias=False)\n",
              "        (bn1): BatchNorm2d(1152, eps=0.001, momentum=0.1, affine=True, track_running_stats=True)\n",
              "        (act1): SiLU(inplace=True)\n",
              "        (conv_dw): Conv2d(1152, 1152, kernel_size=(3, 3), stride=(1, 1), padding=(1, 1), groups=1152, bias=False)\n",
              "        (bn2): BatchNorm2d(1152, eps=0.001, momentum=0.1, affine=True, track_running_stats=True)\n",
              "        (act2): SiLU(inplace=True)\n",
              "        (se): SqueezeExcite(\n",
              "          (conv_reduce): Conv2d(1152, 48, kernel_size=(1, 1), stride=(1, 1))\n",
              "          (act1): SiLU(inplace=True)\n",
              "          (conv_expand): Conv2d(48, 1152, kernel_size=(1, 1), stride=(1, 1))\n",
              "        )\n",
              "        (conv_pwl): Conv2d(1152, 320, kernel_size=(1, 1), stride=(1, 1), bias=False)\n",
              "        (bn3): BatchNorm2d(320, eps=0.001, momentum=0.1, affine=True, track_running_stats=True)\n",
              "      )\n",
              "    )\n",
              "  )\n",
              "  (conv_head): Conv2d(320, 1280, kernel_size=(1, 1), stride=(1, 1), bias=False)\n",
              "  (bn2): BatchNorm2d(1280, eps=0.001, momentum=0.1, affine=True, track_running_stats=True)\n",
              "  (act2): SiLU(inplace=True)\n",
              "  (global_pool): SelectAdaptivePool2d (pool_type=avg, flatten=True)\n",
              "  (classifier): Identity()\n",
              ")"
            ]
          },
          "execution_count": 41,
          "metadata": {},
          "output_type": "execute_result"
        }
      ],
      "source": [
        "feature_extractor_model.classifier=torch.nn.Identity()\n",
        "feature_extractor_model.eval()"
      ]
    },
    {
      "cell_type": "code",
      "execution_count": 42,
      "metadata": {
        "id": "RZWLIALMC-x8"
      },
      "outputs": [],
      "source": [
        "def get_probab(features):\n",
        "    x=np.dot(features,np.transpose(classifier_weights))+classifier_bias\n",
        "    #print(x)\n",
        "    e_x = np.exp(x - np.max(x,axis=0))\n",
        "    return e_x / e_x.sum(axis=1)[:,None]"
      ]
    },
    {
      "cell_type": "code",
      "execution_count": 43,
      "metadata": {
        "id": "7OZKWuOvC-x8",
        "outputId": "a45dad8d-0ad9-430b-96c1-b5dcc1b41ce8"
      },
      "outputs": [
        {
          "name": "stdout",
          "output_type": "stream",
          "text": [
            "{0: 'Anger', 1: 'Contempt', 2: 'Disgust', 3: 'Fear', 4: 'Happiness', 5: 'Neutral', 6: 'Sadness', 7: 'Surprise'}\n"
          ]
        }
      ],
      "source": [
        "if len(classifier_bias)==7:\n",
        "    idx_to_class={0: 'Anger', 1: 'Disgust', 2: 'Fear', 3: 'Happiness', 4: 'Neutral', 5: 'Sadness', 6: 'Surprise'}\n",
        "    INTERESTING_STATES=[0,1,2,3,6]\n",
        "else:\n",
        "    idx_to_class={0: 'Anger', 1: 'Contempt', 2: 'Disgust', 3: 'Fear', 4: 'Happiness', 5: 'Neutral', 6: 'Sadness', 7: 'Surprise'}\n",
        "    INTERESTING_STATES=[0,2,3,4,7]\n",
        "print(idx_to_class)"
      ]
    },
    {
      "cell_type": "code",
      "execution_count": 44,
      "metadata": {
        "id": "GRiRUwLRC-x8",
        "outputId": "74badcf6-e978-4e44-beb8-bd8b9e43bf13"
      },
      "outputs": [
        {
          "name": "stderr",
          "output_type": "stream",
          "text": [
            "100%|██████████| 1650/1650 [00:46<00:00, 35.38it/s]\n"
          ]
        }
      ],
      "source": [
        "X_global_features,X_scores=[],[]\n",
        "for filename in tqdm(sorted(os.listdir(faces_path), key=compare_filenames)):\n",
        "    faces_dir=os.path.join(faces_path,filename)\n",
        "    imgs=[]\n",
        "    for img_name in sorted(os.listdir(faces_dir), key=compare_filenames):\n",
        "        img = Image.open(os.path.join(faces_dir,img_name))\n",
        "        img_tensor = test_transforms(img)\n",
        "        if img.size:\n",
        "            imgs.append(img_tensor)\n",
        "\n",
        "    if len(imgs)>0:\n",
        "        features = feature_extractor_model(torch.stack(imgs, dim=0).to(device))\n",
        "        features=features.data.cpu().numpy()\n",
        "        scores=get_probab(features)\n",
        "        #print(videoname,filename,features.shape,scores.shape)\n",
        "        X_global_features.append(features)\n",
        "        X_scores.append(scores)"
      ]
    },
    {
      "cell_type": "markdown",
      "metadata": {
        "id": "k-E7FgLnC-x8"
      },
      "source": [
        "# Create gifs "
      ]
    },
    {
      "cell_type": "code",
      "execution_count": 47,
      "metadata": {
        "id": "S2Yj9EcxC-x8",
        "outputId": "6def4e35-70a6-47f1-f21d-ffa412c923a1"
      },
      "outputs": [
        {
          "name": "stdout",
          "output_type": "stream",
          "text": [
            "1230 (0, '1', 0)\n",
            "Anger 113 138 1230\n",
            "Disgust 386 400 1230\n",
            "Happiness 994 1022 1230\n",
            "475 (14, '15', 1)\n",
            "Anger 63 82 475\n",
            "1230 (19, '20', 1)\n",
            "Fear 151 168 1230\n",
            "Happiness 182 213 1230\n",
            "Anger 1072 1093 1230\n",
            "546 (41, '42', 2)\n",
            "Happiness 41 50 546\n",
            "Anger 320 343 546\n",
            "Surprise 417 428 546\n",
            "204 (73, '74', 1)\n"
          ]
        }
      ],
      "source": [
        "from IPython import display\n",
        "from PIL import Image, ImageFont, ImageDraw \n",
        "min_num_files=100\n",
        "unicode_font = ImageFont.truetype(\"D:/Users/amira/Desktop/Course Work/d9464-arkhip_font.ttf\", 8)\n",
        "gif=[]\n",
        "no_clusters=len([i for i,files in enumerate(face_files) if len(files)>min_num_files])\n",
        "for subject_ind,files in enumerate(face_files):\n",
        "    if len(files)>min_num_files:\n",
        "        print(len(files),files[0])\n",
        "        prev_filename_ind=-1\n",
        "        start_i=0\n",
        "        current_scores,current_features=[],[]\n",
        "        current_emotion=-1\n",
        "        emotion2longest_sequence={}\n",
        "        for i,(file_ind,filename,face_ind) in enumerate(files):\n",
        "            filename_ind=int(filename)\n",
        "            if prev_filename_ind==-1:\n",
        "                prev_filename_ind=filename_ind-1\n",
        "            new_emotion=np.argmax(X_scores[file_ind][face_ind])\n",
        "            #print('check',prev_filename_ind,filename_ind-1, new_emotion,current_emotion)\n",
        "            if prev_filename_ind!=filename_ind-1 or new_emotion!=current_emotion or new_emotion not in INTERESTING_STATES:\n",
        "                if len(current_scores)>=10:\n",
        "                    emotion=np.argmax(np.mean(current_scores,axis=0))\n",
        "                    if emotion in emotion2longest_sequence:\n",
        "                        if emotion2longest_sequence[emotion][0]<len(current_scores):\n",
        "                            emotion2longest_sequence[emotion]=(len(current_scores),start_i,i-1)\n",
        "                    else:\n",
        "                        emotion2longest_sequence[emotion]=(len(current_scores),start_i,i-1)\n",
        "                    #print(start_i,i-1,idx_to_class[emotion])\n",
        "                start_i=i\n",
        "                current_scores,current_features=[],[]\n",
        "            prev_filename_ind=filename_ind\n",
        "            current_emotion=new_emotion\n",
        "            current_scores.append(X_scores[file_ind][face_ind])\n",
        "            current_features.append(X_global_features[file_ind][face_ind])\n",
        "\n",
        "        if len(emotion2longest_sequence)>0:\n",
        "            for emotion, (_,start_i, end_i) in emotion2longest_sequence.items():\n",
        "                print(idx_to_class[emotion],start_i,end_i,len(files))\n",
        "                for i in range(start_i,min(start_i+20,end_i)+1):\n",
        "                    #print(files[i])\n",
        "                    fpath=os.path.join(faces_path,files[i][1],str(files[i][2])+'.png')\n",
        "                    img=Image.open(fpath)\n",
        "                    img = img.resize((112,112), Image.ANTIALIAS)\n",
        "                    draw = ImageDraw.Draw(img) \n",
        "                    draw.text((0, 0), subjects[subject_ind], align =\"left\", font=unicode_font,fill=(0,0,255,255))\n",
        "                    draw.text((0, 10), idx_to_class[emotion], align =\"left\",font=unicode_font, fill=(0,255,0,255))\n",
        "                    gif.append(img.convert(\"P\",palette=Image.ADAPTIVE))\n",
        "\n",
        "if False:\n",
        "    for img in gif:\n",
        "        display.clear_output(wait=True)\n",
        "        plt.axis('off')\n",
        "        plt.imshow(img)\n",
        "        plt.show()\n",
        "if True and len(gif)>0:\n",
        "    gif[0].save('emo.gif', save_all=True,optimize=False, append_images=gif[1:],disposal=2)"
      ]
    },
    {
      "cell_type": "code",
      "execution_count": 49,
      "metadata": {
        "id": "T8hLtpxmC-x9"
      },
      "outputs": [
        {
          "name": "stdout",
          "output_type": "stream",
          "text": [
            " Volume in drive D has no label.\n",
            " Volume Serial Number is B686-429A\n",
            "\n",
            " Directory of d:\\Users\\amira\\Desktop\\Course Work\n",
            "\n",
            "28.02.2022  21:45    <DIR>          .\n",
            "24.02.2022  15:19    <DIR>          ..\n",
            "28.02.2022  19:27    <DIR>          __pycache__\n",
            "28.02.2022  18:21            78�232 d9464-arkhip_font.ttf\n",
            "20.02.2022  21:37         1�017�397 display_emotions.ipynb\n",
            "28.02.2022  21:45         1�694�987 emo.gif\n",
            "28.02.2022  19:26            13�730 facial_analysis.py\n",
            "17.02.2022  15:13            13�729 facial_analysis_for_colab.py\n",
            "20.02.2022  20:51             5�302 get_faces.ipynb\n",
            "15.02.2022  20:02             4�821 make_frames_of_singleface.ipynb\n",
            "28.02.2022  19:15    <DIR>          models\n",
            "28.02.2022  19:11           256�996 video_summarizer.ipynb\n",
            "               8 File(s)      3�085�194 bytes\n",
            "               4 Dir(s)  862�549�069�824 bytes free\n"
          ]
        }
      ],
      "source": [
        "ls"
      ]
    },
    {
      "cell_type": "code",
      "execution_count": null,
      "metadata": {},
      "outputs": [],
      "source": []
    }
  ],
  "metadata": {
    "colab": {
      "name": "video_summarizer.ipynb",
      "provenance": []
    },
    "kernelspec": {
      "display_name": "Python 3",
      "language": "python",
      "name": "python3"
    },
    "language_info": {
      "codemirror_mode": {
        "name": "ipython",
        "version": 3
      },
      "file_extension": ".py",
      "mimetype": "text/x-python",
      "name": "python",
      "nbconvert_exporter": "python",
      "pygments_lexer": "ipython3",
      "version": "3.9.10"
    }
  },
  "nbformat": 4,
  "nbformat_minor": 0
}
