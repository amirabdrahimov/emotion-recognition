{
 "cells": [
  {
   "cell_type": "code",
   "execution_count": 1,
   "metadata": {},
   "outputs": [],
   "source": [
    "#import librosa\n",
    "import os\n",
    "import numpy as np\n",
    "from sklearn.preprocessing import LabelEncoder\n",
    "import matplotlib.pyplot as plt\n",
    "import seaborn as sns\n",
    "import cv2\n",
    "from PIL import Image\n",
    "from random import shuffle\n",
    "from tqdm.notebook import tqdm\n",
    "import pandas as pd\n",
    "from time import time\n",
    "\n",
    "import pickle\n",
    "\n",
    "from scipy.special import softmax\n",
    "from sklearn.svm import SVC,LinearSVC\n",
    "from sklearn.ensemble import RandomForestClassifier, BaggingClassifier,ExtraTreesClassifier\n",
    "from sklearn import svm,metrics,preprocessing\n",
    "from sklearn.neighbors import KNeighborsClassifier\n",
    "from sklearn.neural_network import MLPClassifier\n",
    "from sklearn.model_selection import GridSearchCV\n",
    "from sklearn import preprocessing\n",
    "import torch\n",
    "import torch.nn as nn\n",
    "import torch.nn.functional as F\n",
    "import torch.optim as optim\n",
    "from torchvision import datasets, transforms\n",
    "\n",
    "#from scipy.misc import imread, imresize\n",
    "\n",
    "%matplotlib inline\n"
   ]
  },
  {
   "cell_type": "code",
   "execution_count": 2,
   "metadata": {},
   "outputs": [],
   "source": [
    "IMG_SIZE = 224\n",
    "\n",
    "num_labels = 6 \n",
    "emotions_list = ['Angry', 'Disgust', 'Fear', 'Happy', 'Neutral', 'Sad', 'Surprise']\n",
    "class_to_idx = {'Angry': 0, 'Disgust': 1, 'Fear': 2, 'Happy': 3, 'Neutral': 4, 'Sad': 5, 'Surprise': 6}\n",
    "idx_to_class = {0: 'Angry', 1: 'Disgust', 2: 'Fear', 3: 'Happy', 4: 'Neutral', 5: 'Sad', 6: 'Surprise'}\n"
   ]
  },
  {
   "cell_type": "code",
   "execution_count": 3,
   "metadata": {},
   "outputs": [
    {
     "name": "stdout",
     "output_type": "stream",
     "text": [
      "enet_b0_8_afew_extra.pickle\n",
      "773 383\n"
     ]
    }
   ],
   "source": [
    "import pickle\n",
    "model_name = 'enet_b0_8'\n",
    "MODEL2EMOTIW_FEATURES=model_name+'_afew_extra.pickle' \n",
    "\n",
    "print(MODEL2EMOTIW_FEATURES)\n",
    "\n",
    "with open(MODEL2EMOTIW_FEATURES, 'rb') as handle:\n",
    "    filename2features_train,filename2features_val=pickle.load(handle)\n",
    "print(len(filename2features_train),len(filename2features_val))\n"
   ]
  },
  {
   "cell_type": "code",
   "execution_count": 4,
   "metadata": {},
   "outputs": [],
   "source": [
    "\n",
    "DATA_DIR=r'D:\\Users\\amira\\Documents\\datasets\\emotions\\AudioVideo\\faces+'\n"
   ]
  },
  {
   "cell_type": "code",
   "execution_count": 5,
   "metadata": {},
   "outputs": [
    {
     "data": {
      "application/vnd.jupyter.widget-view+json": {
       "model_id": "cac4116589404f5fbf9b537a54f5764a",
       "version_major": 2,
       "version_minor": 0
      },
      "text/plain": [
       "  0%|          | 0/133 [00:00<?, ?it/s]"
      ]
     },
     "metadata": {},
     "output_type": "display_data"
    },
    {
     "data": {
      "application/vnd.jupyter.widget-view+json": {
       "model_id": "afd6729252874bd4b7cd17f0a594cd2e",
       "version_major": 2,
       "version_minor": 0
      },
      "text/plain": [
       "  0%|          | 0/74 [00:00<?, ?it/s]"
      ]
     },
     "metadata": {},
     "output_type": "display_data"
    },
    {
     "data": {
      "application/vnd.jupyter.widget-view+json": {
       "model_id": "9eb3f3d4bb164fd68aa67ff8fccb7a53",
       "version_major": 2,
       "version_minor": 0
      },
      "text/plain": [
       "  0%|          | 0/81 [00:00<?, ?it/s]"
      ]
     },
     "metadata": {},
     "output_type": "display_data"
    },
    {
     "data": {
      "application/vnd.jupyter.widget-view+json": {
       "model_id": "da6469c9991a4d858833a17ede192648",
       "version_major": 2,
       "version_minor": 0
      },
      "text/plain": [
       "  0%|          | 0/150 [00:00<?, ?it/s]"
      ]
     },
     "metadata": {},
     "output_type": "display_data"
    },
    {
     "data": {
      "application/vnd.jupyter.widget-view+json": {
       "model_id": "c38c62baa6ef4b06907c5c7e7163121c",
       "version_major": 2,
       "version_minor": 0
      },
      "text/plain": [
       "  0%|          | 0/144 [00:00<?, ?it/s]"
      ]
     },
     "metadata": {},
     "output_type": "display_data"
    },
    {
     "data": {
      "application/vnd.jupyter.widget-view+json": {
       "model_id": "823e618f382847f5b9c488e8d8f65141",
       "version_major": 2,
       "version_minor": 0
      },
      "text/plain": [
       "  0%|          | 0/117 [00:00<?, ?it/s]"
      ]
     },
     "metadata": {},
     "output_type": "display_data"
    },
    {
     "data": {
      "application/vnd.jupyter.widget-view+json": {
       "model_id": "f7c86fcdd5234fdf99c0c04bcf7d0fe0",
       "version_major": 2,
       "version_minor": 0
      },
      "text/plain": [
       "  0%|          | 0/74 [00:00<?, ?it/s]"
      ]
     },
     "metadata": {},
     "output_type": "display_data"
    },
    {
     "name": "stdout",
     "output_type": "stream",
     "text": [
      "(773, 5120) (773,)\n"
     ]
    },
    {
     "data": {
      "application/vnd.jupyter.widget-view+json": {
       "model_id": "cfd336271280479ea7bc5bf6db872b98",
       "version_major": 2,
       "version_minor": 0
      },
      "text/plain": [
       "  0%|          | 0/64 [00:00<?, ?it/s]"
      ]
     },
     "metadata": {},
     "output_type": "display_data"
    },
    {
     "data": {
      "application/vnd.jupyter.widget-view+json": {
       "model_id": "ae45588436034bd4bd94aa643146a15b",
       "version_major": 2,
       "version_minor": 0
      },
      "text/plain": [
       "  0%|          | 0/40 [00:00<?, ?it/s]"
      ]
     },
     "metadata": {},
     "output_type": "display_data"
    },
    {
     "data": {
      "application/vnd.jupyter.widget-view+json": {
       "model_id": "bbdbd4206fe14b99bbe7dc7ae61f3541",
       "version_major": 2,
       "version_minor": 0
      },
      "text/plain": [
       "  0%|          | 0/46 [00:00<?, ?it/s]"
      ]
     },
     "metadata": {},
     "output_type": "display_data"
    },
    {
     "data": {
      "application/vnd.jupyter.widget-view+json": {
       "model_id": "20b109b096d14061ad4b3628f92f1aa2",
       "version_major": 2,
       "version_minor": 0
      },
      "text/plain": [
       "  0%|          | 0/63 [00:00<?, ?it/s]"
      ]
     },
     "metadata": {},
     "output_type": "display_data"
    },
    {
     "data": {
      "application/vnd.jupyter.widget-view+json": {
       "model_id": "1ec0c1047c18447896370c72355efe7a",
       "version_major": 2,
       "version_minor": 0
      },
      "text/plain": [
       "  0%|          | 0/63 [00:00<?, ?it/s]"
      ]
     },
     "metadata": {},
     "output_type": "display_data"
    },
    {
     "data": {
      "application/vnd.jupyter.widget-view+json": {
       "model_id": "0d724297c3c64f399879c4c278b0e189",
       "version_major": 2,
       "version_minor": 0
      },
      "text/plain": [
       "  0%|          | 0/61 [00:00<?, ?it/s]"
      ]
     },
     "metadata": {},
     "output_type": "display_data"
    },
    {
     "data": {
      "application/vnd.jupyter.widget-view+json": {
       "model_id": "9f0db3ce408242829447b8a967479e7d",
       "version_major": 2,
       "version_minor": 0
      },
      "text/plain": [
       "  0%|          | 0/46 [00:00<?, ?it/s]"
      ]
     },
     "metadata": {},
     "output_type": "display_data"
    },
    {
     "name": "stdout",
     "output_type": "stream",
     "text": [
      "(383, 5120) (383,)\n"
     ]
    }
   ],
   "source": [
    "def create_dataset(filename2features,data_dir):\n",
    "    x = []\n",
    "    y = []\n",
    "    has_faces=[]\n",
    "    ind=0\n",
    "    for class_name in class_to_idx:\n",
    "        for filename in tqdm(os.listdir(os.path.join(data_dir,class_name))):\n",
    "            fn=os.path.splitext(filename)[0] # goes through files names\n",
    "            if not fn in filename2features:\n",
    "                continue\n",
    "            features=filename2features[fn]\n",
    "            total_features=None\n",
    "\n",
    "            if len(features[0])!=0:\n",
    "                cur_features=features[0][features[-1]==1]\n",
    "\n",
    "            if len(cur_features)==0:\n",
    "                print(class_name,': ',filename)\n",
    "                has_faces.append(0)\n",
    "                total_features=np.zeros_like(feature)\n",
    "            else:\n",
    "                has_faces.append(1)\n",
    "                #mean_features=features.mean(axis=0)\n",
    "                mean_features = (np.mean(cur_features, axis=0))\n",
    "                std_features = (np.std(cur_features, axis=0))\n",
    "                max_features = (np.max(cur_features, axis=0))\n",
    "                min_features = (np.min(cur_features, axis=0))\n",
    "\n",
    "                # join several features together\n",
    "                feature = np.concatenate((mean_features, std_features, min_features, max_features), axis=None)                    \n",
    "                #feature = np.concatenate((mean_features, std_features, min_features), axis=None)\n",
    "                #feature = np.concatenate((mean_features, min_features, max_features), axis=None)\n",
    "                #feature = np.concatenate((max_features, std_features), axis=None)\n",
    "                #feature=max_features\n",
    "\n",
    "                total_features=feature\n",
    "            \n",
    "            if total_features is not None:\n",
    "                x.append(total_features)\n",
    "                y.append(class_to_idx[class_name])\n",
    "    x=np.array(x)\n",
    "    y=np.array(y)\n",
    "    has_faces=np.array(has_faces)\n",
    "    print(x.shape,y.shape)\n",
    "    return x,y,has_faces\n",
    "\n",
    "x_train_enet, y_train_enet, has_faces_train = create_dataset(filename2features_train, os.path.join(DATA_DIR, 'Train_AFEW'))\n",
    "x_test_enet, y_test_enet, has_faces_test = create_dataset(filename2features_val, os.path.join(DATA_DIR, 'Val_AFEW'))\n",
    "from sklearn import svm,metrics,preprocessing\n",
    "\n",
    "x_train_norm=preprocessing.normalize(x_train_enet,norm='l2')\n",
    "x_test_norm=preprocessing.normalize(x_test_enet,norm='l2')"
   ]
  },
  {
   "cell_type": "markdown",
   "metadata": {},
   "source": [
    "## Пример того, что получаются слегка различные \"вероятности\""
   ]
  },
  {
   "cell_type": "code",
   "execution_count": 15,
   "metadata": {},
   "outputs": [
    {
     "name": "stdout",
     "output_type": "stream",
     "text": [
      "Complete accuracy: 0.5926892950391645\n"
     ]
    }
   ],
   "source": [
    "lin_svc = svm.LinearSVC(C=1.1) \n",
    "   \n",
    "lin_svc.fit(x_train_norm[has_faces_train==1], y_train_enet[has_faces_train==1])\n",
    "y_pred = lin_svc.predict(x_test_norm)\n",
    "\n",
    "#print(\"Accuracy:\",metrics.accuracy_score(y_test_enet[has_faces_test==1], y_pred[has_faces_test==1]))\n",
    "print(\"Complete accuracy:\",metrics.accuracy_score(y_test_enet, y_pred))"
   ]
  },
  {
   "cell_type": "code",
   "execution_count": 16,
   "metadata": {},
   "outputs": [
    {
     "name": "stdout",
     "output_type": "stream",
     "text": [
      "Complete accuracy: 0.5926892950391645\n"
     ]
    }
   ],
   "source": [
    "linsvc_proba = []\n",
    "linsvc_dist = lin_svc.decision_function(x_test_norm)\n",
    "for i in range(len(linsvc_dist)):\n",
    "  linsvc_proba.append(softmax(linsvc_dist[i]))\n",
    "\n",
    "linsvc_proba = np.array(linsvc_proba)\n",
    "print(\"Complete accuracy:\",metrics.accuracy_score(y_test_enet, np.argmax(linsvc_proba, axis=1)))"
   ]
  },
  {
   "cell_type": "code",
   "execution_count": 17,
   "metadata": {},
   "outputs": [
    {
     "data": {
      "text/plain": [
       "array([[0.38935395, 0.10488827, 0.11039422, ..., 0.08164325, 0.14255736,\n",
       "        0.10062161],\n",
       "       [0.30495769, 0.14751365, 0.10925197, ..., 0.05570574, 0.13410408,\n",
       "        0.14461146],\n",
       "       [0.29457795, 0.08879195, 0.06053486, ..., 0.1918812 , 0.07452043,\n",
       "        0.09925956],\n",
       "       ...,\n",
       "       [0.16545626, 0.11063648, 0.17656009, ..., 0.1933704 , 0.15645165,\n",
       "        0.14687391],\n",
       "       [0.08984647, 0.11856051, 0.11976888, ..., 0.18202317, 0.24164934,\n",
       "        0.19865268],\n",
       "       [0.08286713, 0.11130445, 0.23236521, ..., 0.16970015, 0.11028841,\n",
       "        0.22866322]])"
      ]
     },
     "execution_count": 17,
     "metadata": {},
     "output_type": "execute_result"
    }
   ],
   "source": [
    "linsvc_proba"
   ]
  },
  {
   "cell_type": "code",
   "execution_count": 11,
   "metadata": {},
   "outputs": [
    {
     "name": "stdout",
     "output_type": "stream",
     "text": [
      "Complete accuracy: 0.5926892950391645\n"
     ]
    }
   ],
   "source": [
    "lin_svc = svm.LinearSVC(C=1.1) \n",
    "   \n",
    "lin_svc.fit(x_train_norm[has_faces_train==1], y_train_enet[has_faces_train==1])\n",
    "y_pred = lin_svc.predict(x_test_norm)\n",
    "\n",
    "#print(\"Accuracy:\",metrics.accuracy_score(y_test_enet[has_faces_test==1], y_pred[has_faces_test==1]))\n",
    "print(\"Complete accuracy:\",metrics.accuracy_score(y_test_enet, y_pred))"
   ]
  },
  {
   "cell_type": "code",
   "execution_count": 14,
   "metadata": {},
   "outputs": [
    {
     "name": "stdout",
     "output_type": "stream",
     "text": [
      "Complete accuracy: 0.5926892950391645\n"
     ]
    }
   ],
   "source": [
    "linsvc_proba = []\n",
    "linsvc_dist = lin_svc.decision_function(x_test_norm)\n",
    "for i in range(len(linsvc_dist)):\n",
    "  linsvc_proba.append(softmax(linsvc_dist[i]))\n",
    "\n",
    "linsvc_proba = np.array(linsvc_proba)\n",
    "print(\"Complete accuracy:\",metrics.accuracy_score(y_test_enet, np.argmax(linsvc_proba, axis=1)))"
   ]
  },
  {
   "cell_type": "code",
   "execution_count": 13,
   "metadata": {},
   "outputs": [
    {
     "data": {
      "text/plain": [
       "array([[0.38935559, 0.10488681, 0.11039256, ..., 0.08164369, 0.14255842,\n",
       "        0.10062185],\n",
       "       [0.30495962, 0.14751192, 0.10925089, ..., 0.05570589, 0.13410498,\n",
       "        0.14461156],\n",
       "       [0.29457849, 0.08879097, 0.06053415, ..., 0.1918821 , 0.07452105,\n",
       "        0.09925926],\n",
       "       ...,\n",
       "       [0.16545614, 0.11063531, 0.17655797, ..., 0.19337207, 0.15645329,\n",
       "        0.14687414],\n",
       "       [0.08984678, 0.11855963, 0.11976792, ..., 0.18202375, 0.24165115,\n",
       "        0.19865201],\n",
       "       [0.08286765, 0.11130391, 0.23236463, ..., 0.16970058, 0.11028937,\n",
       "        0.22866209]])"
      ]
     },
     "execution_count": 13,
     "metadata": {},
     "output_type": "execute_result"
    }
   ],
   "source": [
    "linsvc_proba"
   ]
  },
  {
   "cell_type": "markdown",
   "metadata": {},
   "source": [
    "## CalibratedClassifierCV"
   ]
  },
  {
   "cell_type": "code",
   "execution_count": 26,
   "metadata": {},
   "outputs": [
    {
     "name": "stdout",
     "output_type": "stream",
     "text": [
      "Complete accuracy: 0.5822454308093995\n"
     ]
    }
   ],
   "source": [
    "from sklearn.calibration import CalibratedClassifierCV\n",
    "\n",
    "lin_svc = svm.LinearSVC(C=1.1)\n",
    "clf = CalibratedClassifierCV(lin_svc) \n",
    "clf.fit(x_train_norm[has_faces_train==1], y_train_enet[has_faces_train==1])\n",
    "linsvc_proba = clf.predict_proba(x_test_norm)\n",
    "\n",
    "print(\"Complete accuracy:\",metrics.accuracy_score(y_test_enet, np.argmax(linsvc_proba, axis=1)))"
   ]
  },
  {
   "cell_type": "code",
   "execution_count": 27,
   "metadata": {},
   "outputs": [
    {
     "name": "stdout",
     "output_type": "stream",
     "text": [
      "[[0.69542496 0.04699263 0.06342438 ... 0.0357516  0.10525061 0.03691953]\n",
      " [0.52709082 0.12013372 0.05838211 ... 0.0189576  0.10898037 0.1165605 ]\n",
      " [0.48626496 0.02816888 0.01068643 ... 0.23116884 0.01755679 0.04474281]\n",
      " ...\n",
      " [0.17688351 0.05664132 0.19903203 ... 0.27945737 0.15100569 0.13014106]\n",
      " [0.03272507 0.07995076 0.07252398 ... 0.21964068 0.35516383 0.23414965]\n",
      " [0.02274285 0.04658735 0.33213132 ... 0.18404434 0.06003161 0.34379498]]\n"
     ]
    }
   ],
   "source": [
    "print(linsvc_proba)"
   ]
  },
  {
   "cell_type": "code",
   "execution_count": 29,
   "metadata": {},
   "outputs": [
    {
     "name": "stdout",
     "output_type": "stream",
     "text": [
      "Complete accuracy: 0.597911227154047\n"
     ]
    }
   ],
   "source": [
    "from sklearn.calibration import CalibratedClassifierCV\n",
    "\n",
    "lin_svc = svm.LinearSVC(C=1.1)\n",
    "clf = CalibratedClassifierCV(lin_svc, method='isotonic') \n",
    "clf.fit(x_train_norm[has_faces_train==1], y_train_enet[has_faces_train==1])\n",
    "linsvc_proba = clf.predict_proba(x_test_norm)\n",
    "\n",
    "print(\"Complete accuracy:\",metrics.accuracy_score(y_test_enet, np.argmax(linsvc_proba, axis=1)))"
   ]
  },
  {
   "cell_type": "code",
   "execution_count": 30,
   "metadata": {},
   "outputs": [
    {
     "name": "stdout",
     "output_type": "stream",
     "text": [
      "[[0.76185063 0.01945522 0.06440171 ... 0.01220487 0.12611788 0.01596968]\n",
      " [0.59674847 0.15358354 0.03821546 ... 0.         0.07955697 0.10872361]\n",
      " [0.56681922 0.01001122 0.         ... 0.25104857 0.00349553 0.03566358]\n",
      " ...\n",
      " [0.15726708 0.0125282  0.27367087 ... 0.21835835 0.18630157 0.15187394]\n",
      " [0.01612505 0.09408085 0.07935971 ... 0.22069199 0.32508118 0.26466122]\n",
      " [0.01272604 0.01645364 0.29021132 ... 0.2165723  0.02099834 0.44303836]]\n"
     ]
    }
   ],
   "source": [
    "print(linsvc_proba)"
   ]
  },
  {
   "cell_type": "code",
   "execution_count": null,
   "metadata": {},
   "outputs": [],
   "source": []
  }
 ],
 "metadata": {
  "interpreter": {
   "hash": "9ed3981b15a223883aee74f0ceebf90ae99ff8cc4fd329eb8565e2053aa83b18"
  },
  "kernelspec": {
   "display_name": "Python 3.9.10 64-bit",
   "language": "python",
   "name": "python3"
  },
  "language_info": {
   "codemirror_mode": {
    "name": "ipython",
    "version": 3
   },
   "file_extension": ".py",
   "mimetype": "text/x-python",
   "name": "python",
   "nbconvert_exporter": "python",
   "pygments_lexer": "ipython3",
   "version": "3.9.10"
  },
  "orig_nbformat": 4
 },
 "nbformat": 4,
 "nbformat_minor": 2
}
